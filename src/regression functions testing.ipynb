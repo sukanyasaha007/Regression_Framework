{
 "cells": [
  {
   "cell_type": "markdown",
   "metadata": {},
   "source": [
    "### Appending path to import h2o"
   ]
  },
  {
   "cell_type": "code",
   "execution_count": 127,
   "metadata": {},
   "outputs": [],
   "source": [
    "import sys"
   ]
  },
  {
   "cell_type": "code",
   "execution_count": 4,
   "metadata": {},
   "outputs": [],
   "source": [
    "sys.path.append('/datascience/home/ssaha/Test/')\n",
    "sys.path.append('/datascience/home/ssaha/')"
   ]
  },
  {
   "cell_type": "markdown",
   "metadata": {},
   "source": [
    "### Importing modules"
   ]
  },
  {
   "cell_type": "code",
   "execution_count": 14,
   "metadata": {},
   "outputs": [],
   "source": [
    "import sys\n",
    "import numpy as np\n",
    "\n",
    "import time\n",
    "import sys\n",
    "import warnings\n",
    "import datetime\n",
    "import gc\n",
    "import pandas as pd\n",
    "import matplotlib.pyplot as plt\n",
    "import sklearn \n",
    "import os\n",
    "import seaborn as sns\n",
    "from pathlib import Path\n",
    "import pickle\n",
    "import plotly as pl\n",
    "import feature_selection\n",
    "from sklearn.model_selection import GridSearchCV\n",
    "import data_prep \n",
    "import data_summary\n",
    "import lime_ModelExplainer\n",
    "\n",
    "#import plot_residual\n",
    "import reading_data\n",
    "\n",
    "import eda\n",
    "from lime_ModelExplainer import lime_explainer\n",
    "%matplotlib inline  \n",
    "sys.path.append('/datascience/home/ssaha/Test/')\n",
    "sys.path.append('/datascience/home/ssaha/')\n",
    "from sklearn.utils import resample\n",
    "\n",
    "\n",
    "\n",
    "import MLModels\n",
    "import pickle\n",
    "\n",
    "\n",
    "import evaluation_metric\n",
    "from config_param import project_identifier\n",
    "from directoryPath import mlresult_dir, parent_dir, parent_dir_project, mlresult_dir\n",
    "import directoryPath\n",
    "\n",
    "from config_param import project_identifier"
   ]
  },
  {
   "cell_type": "code",
   "execution_count": 15,
   "metadata": {},
   "outputs": [],
   "source": [
    "import gc"
   ]
  },
  {
   "cell_type": "code",
   "execution_count": 16,
   "metadata": {},
   "outputs": [
    {
     "data": {
      "text/plain": [
       "476"
      ]
     },
     "execution_count": 16,
     "metadata": {},
     "output_type": "execute_result"
    }
   ],
   "source": [
    "gc.collect()"
   ]
  },
  {
   "cell_type": "markdown",
   "metadata": {},
   "source": [
    "# Reading data"
   ]
  },
  {
   "cell_type": "code",
   "execution_count": 128,
   "metadata": {},
   "outputs": [],
   "source": [
    "df_parquet= reading_data.read_data(path=\"/datascience/home/ssaha/input/c360_customeradt_lexussegmentation_2012_09_30/\")"
   ]
  },
  {
   "cell_type": "code",
   "execution_count": 69,
   "metadata": {},
   "outputs": [],
   "source": [
    "df_parquet = resample(df_parquet, replace=False,     # sample without replacement\n",
    "                                 n_samples=1000,    \n",
    "                                 random_state=123)"
   ]
  },
  {
   "cell_type": "code",
   "execution_count": 84,
   "metadata": {},
   "outputs": [],
   "source": [
    "df_parquet.to_pickle(mlresult_dir + str(project_identifier) + '_' + str(datetime.datetime.now().day)+ 'sample_data.pkl')"
   ]
  },
  {
   "cell_type": "code",
   "execution_count": 17,
   "metadata": {},
   "outputs": [],
   "source": [
    "df= pd.read_pickle(mlresult_dir + 'c360_customeradt_lexussegmentation_2012_09_30_22sample_data.pkl')"
   ]
  },
  {
   "cell_type": "markdown",
   "metadata": {},
   "source": [
    "## Overall summary\n"
   ]
  },
  {
   "cell_type": "code",
   "execution_count": 226,
   "metadata": {},
   "outputs": [
    {
     "data": {
      "text/html": [
       "<div>\n",
       "<style scoped>\n",
       "    .dataframe tbody tr th:only-of-type {\n",
       "        vertical-align: middle;\n",
       "    }\n",
       "\n",
       "    .dataframe tbody tr th {\n",
       "        vertical-align: top;\n",
       "    }\n",
       "\n",
       "    .dataframe thead th {\n",
       "        text-align: right;\n",
       "    }\n",
       "</style>\n",
       "<table border=\"1\" class=\"dataframe\">\n",
       "  <thead>\n",
       "    <tr style=\"text-align: right;\">\n",
       "      <th></th>\n",
       "      <th>customer_id</th>\n",
       "      <th>customer_type</th>\n",
       "      <th>no_owned_vehicle</th>\n",
       "      <th>no_new_purchase_vehicle</th>\n",
       "      <th>no_used_purchase_vehicle</th>\n",
       "      <th>no_cpo_purchase_vehicle</th>\n",
       "      <th>avg_assoc_length</th>\n",
       "      <th>max_assoc_length</th>\n",
       "      <th>no_sales_dealer_assoc</th>\n",
       "      <th>days_since_last_purchase_vehicle</th>\n",
       "      <th>...</th>\n",
       "      <th>dep_warranty_pay_lexus_48mo</th>\n",
       "      <th>dep_total_pay_toyota_scion_60mo</th>\n",
       "      <th>dep_customer_pay_toyota_scion_60mo</th>\n",
       "      <th>dep_warranty_pay_toyota_scion_60mo</th>\n",
       "      <th>dep_total_pay_lexus_60mo</th>\n",
       "      <th>dep_customer_pay_lexus_60mo</th>\n",
       "      <th>dep_warranty_pay_lexus_60mo</th>\n",
       "      <th>lifetime_value</th>\n",
       "      <th>dep_lifetime_value</th>\n",
       "      <th>dep_value_growth</th>\n",
       "    </tr>\n",
       "  </thead>\n",
       "  <tbody>\n",
       "    <tr>\n",
       "      <th>17947</th>\n",
       "      <td>41750591</td>\n",
       "      <td>PERSON</td>\n",
       "      <td>1</td>\n",
       "      <td>1.0</td>\n",
       "      <td>NaN</td>\n",
       "      <td>NaN</td>\n",
       "      <td>1098.0</td>\n",
       "      <td>1098</td>\n",
       "      <td>1.0</td>\n",
       "      <td>1145.0</td>\n",
       "      <td>...</td>\n",
       "      <td>0.0</td>\n",
       "      <td>0.0</td>\n",
       "      <td>0.0</td>\n",
       "      <td>0.0</td>\n",
       "      <td>0.0</td>\n",
       "      <td>0.0</td>\n",
       "      <td>0.0</td>\n",
       "      <td>29227.50</td>\n",
       "      <td>0.0</td>\n",
       "      <td>0.0</td>\n",
       "    </tr>\n",
       "    <tr>\n",
       "      <th>23384</th>\n",
       "      <td>108487848</td>\n",
       "      <td>PERSON</td>\n",
       "      <td>1</td>\n",
       "      <td>NaN</td>\n",
       "      <td>1.0</td>\n",
       "      <td>NaN</td>\n",
       "      <td>1704.0</td>\n",
       "      <td>1704</td>\n",
       "      <td>1.0</td>\n",
       "      <td>821.0</td>\n",
       "      <td>...</td>\n",
       "      <td>0.0</td>\n",
       "      <td>0.0</td>\n",
       "      <td>0.0</td>\n",
       "      <td>0.0</td>\n",
       "      <td>0.0</td>\n",
       "      <td>0.0</td>\n",
       "      <td>0.0</td>\n",
       "      <td>17406.64</td>\n",
       "      <td>0.0</td>\n",
       "      <td>0.0</td>\n",
       "    </tr>\n",
       "    <tr>\n",
       "      <th>1771</th>\n",
       "      <td>4277961</td>\n",
       "      <td>PERSON</td>\n",
       "      <td>3</td>\n",
       "      <td>3.0</td>\n",
       "      <td>NaN</td>\n",
       "      <td>NaN</td>\n",
       "      <td>1164.0</td>\n",
       "      <td>1932</td>\n",
       "      <td>2.0</td>\n",
       "      <td>2475.0</td>\n",
       "      <td>...</td>\n",
       "      <td>0.0</td>\n",
       "      <td>0.0</td>\n",
       "      <td>0.0</td>\n",
       "      <td>0.0</td>\n",
       "      <td>0.0</td>\n",
       "      <td>0.0</td>\n",
       "      <td>0.0</td>\n",
       "      <td>97597.50</td>\n",
       "      <td>0.0</td>\n",
       "      <td>0.0</td>\n",
       "    </tr>\n",
       "    <tr>\n",
       "      <th>3732</th>\n",
       "      <td>9138404</td>\n",
       "      <td>PERSON</td>\n",
       "      <td>2</td>\n",
       "      <td>2.0</td>\n",
       "      <td>NaN</td>\n",
       "      <td>NaN</td>\n",
       "      <td>1364.0</td>\n",
       "      <td>1547</td>\n",
       "      <td>1.0</td>\n",
       "      <td>2204.0</td>\n",
       "      <td>...</td>\n",
       "      <td>0.0</td>\n",
       "      <td>0.0</td>\n",
       "      <td>0.0</td>\n",
       "      <td>0.0</td>\n",
       "      <td>0.0</td>\n",
       "      <td>0.0</td>\n",
       "      <td>0.0</td>\n",
       "      <td>119233.18</td>\n",
       "      <td>0.0</td>\n",
       "      <td>0.0</td>\n",
       "    </tr>\n",
       "    <tr>\n",
       "      <th>6967</th>\n",
       "      <td>16910070</td>\n",
       "      <td>PERSON</td>\n",
       "      <td>2</td>\n",
       "      <td>2.0</td>\n",
       "      <td>NaN</td>\n",
       "      <td>NaN</td>\n",
       "      <td>1849.5</td>\n",
       "      <td>2090</td>\n",
       "      <td>1.0</td>\n",
       "      <td>4227.0</td>\n",
       "      <td>...</td>\n",
       "      <td>0.0</td>\n",
       "      <td>0.0</td>\n",
       "      <td>0.0</td>\n",
       "      <td>0.0</td>\n",
       "      <td>0.0</td>\n",
       "      <td>0.0</td>\n",
       "      <td>0.0</td>\n",
       "      <td>57343.42</td>\n",
       "      <td>0.0</td>\n",
       "      <td>0.0</td>\n",
       "    </tr>\n",
       "  </tbody>\n",
       "</table>\n",
       "<p>5 rows × 710 columns</p>\n",
       "</div>"
      ],
      "text/plain": [
       "       customer_id customer_type  no_owned_vehicle  no_new_purchase_vehicle  \\\n",
       "17947     41750591        PERSON                 1                      1.0   \n",
       "23384    108487848        PERSON                 1                      NaN   \n",
       "1771       4277961        PERSON                 3                      3.0   \n",
       "3732       9138404        PERSON                 2                      2.0   \n",
       "6967      16910070        PERSON                 2                      2.0   \n",
       "\n",
       "       no_used_purchase_vehicle  no_cpo_purchase_vehicle  avg_assoc_length  \\\n",
       "17947                       NaN                      NaN            1098.0   \n",
       "23384                       1.0                      NaN            1704.0   \n",
       "1771                        NaN                      NaN            1164.0   \n",
       "3732                        NaN                      NaN            1364.0   \n",
       "6967                        NaN                      NaN            1849.5   \n",
       "\n",
       "       max_assoc_length  no_sales_dealer_assoc  \\\n",
       "17947              1098                    1.0   \n",
       "23384              1704                    1.0   \n",
       "1771               1932                    2.0   \n",
       "3732               1547                    1.0   \n",
       "6967               2090                    1.0   \n",
       "\n",
       "       days_since_last_purchase_vehicle        ...         \\\n",
       "17947                            1145.0        ...          \n",
       "23384                             821.0        ...          \n",
       "1771                             2475.0        ...          \n",
       "3732                             2204.0        ...          \n",
       "6967                             4227.0        ...          \n",
       "\n",
       "       dep_warranty_pay_lexus_48mo dep_total_pay_toyota_scion_60mo  \\\n",
       "17947                          0.0                             0.0   \n",
       "23384                          0.0                             0.0   \n",
       "1771                           0.0                             0.0   \n",
       "3732                           0.0                             0.0   \n",
       "6967                           0.0                             0.0   \n",
       "\n",
       "      dep_customer_pay_toyota_scion_60mo dep_warranty_pay_toyota_scion_60mo  \\\n",
       "17947                                0.0                                0.0   \n",
       "23384                                0.0                                0.0   \n",
       "1771                                 0.0                                0.0   \n",
       "3732                                 0.0                                0.0   \n",
       "6967                                 0.0                                0.0   \n",
       "\n",
       "      dep_total_pay_lexus_60mo  dep_customer_pay_lexus_60mo  \\\n",
       "17947                      0.0                          0.0   \n",
       "23384                      0.0                          0.0   \n",
       "1771                       0.0                          0.0   \n",
       "3732                       0.0                          0.0   \n",
       "6967                       0.0                          0.0   \n",
       "\n",
       "       dep_warranty_pay_lexus_60mo  lifetime_value  dep_lifetime_value  \\\n",
       "17947                          0.0        29227.50                 0.0   \n",
       "23384                          0.0        17406.64                 0.0   \n",
       "1771                           0.0        97597.50                 0.0   \n",
       "3732                           0.0       119233.18                 0.0   \n",
       "6967                           0.0        57343.42                 0.0   \n",
       "\n",
       "       dep_value_growth  \n",
       "17947               0.0  \n",
       "23384               0.0  \n",
       "1771                0.0  \n",
       "3732                0.0  \n",
       "6967                0.0  \n",
       "\n",
       "[5 rows x 710 columns]"
      ]
     },
     "execution_count": 226,
     "metadata": {},
     "output_type": "execute_result"
    }
   ],
   "source": [
    "df.head()"
   ]
  },
  {
   "cell_type": "code",
   "execution_count": 227,
   "metadata": {},
   "outputs": [
    {
     "data": {
      "text/html": [
       "<div>\n",
       "<style scoped>\n",
       "    .dataframe tbody tr th:only-of-type {\n",
       "        vertical-align: middle;\n",
       "    }\n",
       "\n",
       "    .dataframe tbody tr th {\n",
       "        vertical-align: top;\n",
       "    }\n",
       "\n",
       "    .dataframe thead th {\n",
       "        text-align: right;\n",
       "    }\n",
       "</style>\n",
       "<table border=\"1\" class=\"dataframe\">\n",
       "  <thead>\n",
       "    <tr style=\"text-align: right;\">\n",
       "      <th></th>\n",
       "      <th>col_count</th>\n",
       "      <th>row_count</th>\n",
       "      <th>numeric_features_count</th>\n",
       "      <th>categorical_features_count</th>\n",
       "      <th>total_col_with_one_unique_value</th>\n",
       "    </tr>\n",
       "  </thead>\n",
       "  <tbody>\n",
       "    <tr>\n",
       "      <th>Counts</th>\n",
       "      <td>710</td>\n",
       "      <td>1000</td>\n",
       "      <td>635</td>\n",
       "      <td>75</td>\n",
       "      <td>232</td>\n",
       "    </tr>\n",
       "  </tbody>\n",
       "</table>\n",
       "</div>"
      ],
      "text/plain": [
       "        col_count  row_count  numeric_features_count  \\\n",
       "Counts        710       1000                     635   \n",
       "\n",
       "        categorical_features_count  total_col_with_one_unique_value  \n",
       "Counts                          75                              232  "
      ]
     },
     "execution_count": 227,
     "metadata": {},
     "output_type": "execute_result"
    }
   ],
   "source": [
    "data_summary.get_overall_summary(df)"
   ]
  },
  {
   "cell_type": "code",
   "execution_count": 228,
   "metadata": {},
   "outputs": [
    {
     "name": "stdout",
     "output_type": "stream",
     "text": [
      "\n",
      " Time taken to execute the function is 0.01239323616027832\n",
      "\n"
     ]
    },
    {
     "data": {
      "text/html": [
       "<div>\n",
       "<style scoped>\n",
       "    .dataframe tbody tr th:only-of-type {\n",
       "        vertical-align: middle;\n",
       "    }\n",
       "\n",
       "    .dataframe tbody tr th {\n",
       "        vertical-align: top;\n",
       "    }\n",
       "\n",
       "    .dataframe thead th {\n",
       "        text-align: right;\n",
       "    }\n",
       "</style>\n",
       "<table border=\"1\" class=\"dataframe\">\n",
       "  <thead>\n",
       "    <tr style=\"text-align: right;\">\n",
       "      <th></th>\n",
       "      <th>Percentage of missing values</th>\n",
       "    </tr>\n",
       "  </thead>\n",
       "  <tbody>\n",
       "    <tr>\n",
       "      <th>customer_id</th>\n",
       "      <td>0.0</td>\n",
       "    </tr>\n",
       "    <tr>\n",
       "      <th>customer_type</th>\n",
       "      <td>0.0</td>\n",
       "    </tr>\n",
       "    <tr>\n",
       "      <th>no_owned_vehicle</th>\n",
       "      <td>0.0</td>\n",
       "    </tr>\n",
       "    <tr>\n",
       "      <th>no_new_purchase_vehicle</th>\n",
       "      <td>30.5</td>\n",
       "    </tr>\n",
       "    <tr>\n",
       "      <th>no_used_purchase_vehicle</th>\n",
       "      <td>83.3</td>\n",
       "    </tr>\n",
       "  </tbody>\n",
       "</table>\n",
       "</div>"
      ],
      "text/plain": [
       "                          Percentage of missing values\n",
       "customer_id                                        0.0\n",
       "customer_type                                      0.0\n",
       "no_owned_vehicle                                   0.0\n",
       "no_new_purchase_vehicle                           30.5\n",
       "no_used_purchase_vehicle                          83.3"
      ]
     },
     "execution_count": 228,
     "metadata": {},
     "output_type": "execute_result"
    }
   ],
   "source": [
    "data_summary.get_missing_value_count(df).head()"
   ]
  },
  {
   "cell_type": "code",
   "execution_count": 231,
   "metadata": {},
   "outputs": [
    {
     "data": {
      "text/html": [
       "<div>\n",
       "<style scoped>\n",
       "    .dataframe tbody tr th:only-of-type {\n",
       "        vertical-align: middle;\n",
       "    }\n",
       "\n",
       "    .dataframe tbody tr th {\n",
       "        vertical-align: top;\n",
       "    }\n",
       "\n",
       "    .dataframe thead th {\n",
       "        text-align: right;\n",
       "    }\n",
       "</style>\n",
       "<table border=\"1\" class=\"dataframe\">\n",
       "  <thead>\n",
       "    <tr style=\"text-align: right;\">\n",
       "      <th></th>\n",
       "      <th>Mode</th>\n",
       "    </tr>\n",
       "  </thead>\n",
       "  <tbody>\n",
       "    <tr>\n",
       "      <th>customer_id</th>\n",
       "      <td>41333</td>\n",
       "    </tr>\n",
       "    <tr>\n",
       "      <th>customer_type</th>\n",
       "      <td>PERSON</td>\n",
       "    </tr>\n",
       "    <tr>\n",
       "      <th>no_owned_vehicle</th>\n",
       "      <td>1</td>\n",
       "    </tr>\n",
       "    <tr>\n",
       "      <th>no_new_purchase_vehicle</th>\n",
       "      <td>1</td>\n",
       "    </tr>\n",
       "    <tr>\n",
       "      <th>no_used_purchase_vehicle</th>\n",
       "      <td>1</td>\n",
       "    </tr>\n",
       "  </tbody>\n",
       "</table>\n",
       "</div>"
      ],
      "text/plain": [
       "                            Mode\n",
       "customer_id                41333\n",
       "customer_type             PERSON\n",
       "no_owned_vehicle               1\n",
       "no_new_purchase_vehicle        1\n",
       "no_used_purchase_vehicle       1"
      ]
     },
     "execution_count": 231,
     "metadata": {},
     "output_type": "execute_result"
    }
   ],
   "source": [
    "data_summary.get_most_frequent_count(df).head()"
   ]
  },
  {
   "cell_type": "markdown",
   "metadata": {},
   "source": [
    "### Creating Dependent Column"
   ]
  },
  {
   "cell_type": "code",
   "execution_count": 21,
   "metadata": {},
   "outputs": [],
   "source": [
    "new_residual   =  0.9              # Residual value for new vehicle MSRP\n",
    "cpo_residual   =  0.7              # Residual value for CPO vehicle MSRP\n",
    "used_residual  =  0.5              # Residual value for used vehicle MSRP"
   ]
  },
  {
   "cell_type": "code",
   "execution_count": 22,
   "metadata": {},
   "outputs": [],
   "source": [
    "df['lifetime_value'] = df['total_cust_pay'] + new_residual* df['new_vehicle_purchase_value'] + cpo_residual*df['cpo_vehicle_total_purchase_value'] + used_residual*df['used_vehicle_total_purchase_value']\n"
   ]
  },
  {
   "cell_type": "code",
   "execution_count": 23,
   "metadata": {},
   "outputs": [],
   "source": [
    "df['dep_lifetime_value']= df['dep_customer_pay_lexus_60mo'] + new_residual*df['dep_new_msrp_lexus_60mo'] + cpo_residual*df['dep_cpo_msrp_lexus_60mo'] + used_residual*df['dep_used_msrp_lexus_60mo']"
   ]
  },
  {
   "cell_type": "code",
   "execution_count": 24,
   "metadata": {},
   "outputs": [],
   "source": [
    "df['dep_value_growth']= np.where(df['lifetime_value']==0, 0, df['dep_lifetime_value']/ df['lifetime_value'])"
   ]
  },
  {
   "cell_type": "code",
   "execution_count": 25,
   "metadata": {},
   "outputs": [],
   "source": [
    "y=df['dep_value_growth']"
   ]
  },
  {
   "cell_type": "code",
   "execution_count": 26,
   "metadata": {},
   "outputs": [],
   "source": [
    "import data_prep"
   ]
  },
  {
   "cell_type": "code",
   "execution_count": 27,
   "metadata": {},
   "outputs": [],
   "source": [
    "X=data_prep.find_indep_feat(df)"
   ]
  },
  {
   "cell_type": "code",
   "execution_count": 28,
   "metadata": {},
   "outputs": [],
   "source": [
    "df= pd.concat([X,y], axis=1)"
   ]
  },
  {
   "cell_type": "code",
   "execution_count": 29,
   "metadata": {},
   "outputs": [
    {
     "data": {
      "text/plain": [
       "(1000, 541)"
      ]
     },
     "execution_count": 29,
     "metadata": {},
     "output_type": "execute_result"
    }
   ],
   "source": [
    "df.shape"
   ]
  },
  {
   "cell_type": "code",
   "execution_count": 30,
   "metadata": {},
   "outputs": [
    {
     "data": {
      "text/plain": [
       "(1000, 540)"
      ]
     },
     "execution_count": 30,
     "metadata": {},
     "output_type": "execute_result"
    }
   ],
   "source": [
    "X.shape"
   ]
  },
  {
   "cell_type": "code",
   "execution_count": 31,
   "metadata": {},
   "outputs": [
    {
     "data": {
      "text/plain": [
       "(1000,)"
      ]
     },
     "execution_count": 31,
     "metadata": {},
     "output_type": "execute_result"
    }
   ],
   "source": [
    "y.shape"
   ]
  },
  {
   "cell_type": "markdown",
   "metadata": {},
   "source": [
    "### Creating Models for 1 and more than one vehicle"
   ]
  },
  {
   "cell_type": "code",
   "execution_count": 32,
   "metadata": {},
   "outputs": [],
   "source": [
    "mask= df['no_owned_vehicle']<=1\n",
    "df_model1=df[mask]\n",
    "df_model2=df[~mask]"
   ]
  },
  {
   "cell_type": "code",
   "execution_count": 33,
   "metadata": {},
   "outputs": [
    {
     "data": {
      "text/plain": [
       "(786, 541)"
      ]
     },
     "execution_count": 33,
     "metadata": {},
     "output_type": "execute_result"
    }
   ],
   "source": [
    "df_model1.shape"
   ]
  },
  {
   "cell_type": "code",
   "execution_count": 34,
   "metadata": {},
   "outputs": [
    {
     "data": {
      "text/plain": [
       "(214, 541)"
      ]
     },
     "execution_count": 34,
     "metadata": {},
     "output_type": "execute_result"
    }
   ],
   "source": [
    "df_model2.shape"
   ]
  },
  {
   "cell_type": "markdown",
   "metadata": {},
   "source": [
    "### Model 2 (having more than 1 vehicle)"
   ]
  },
  {
   "cell_type": "code",
   "execution_count": 39,
   "metadata": {},
   "outputs": [
    {
     "name": "stdout",
     "output_type": "stream",
     "text": [
      "\n",
      " Time taken to execute the function is 0.09890484809875488\n",
      "\n"
     ]
    }
   ],
   "source": [
    "df_model2_removed_one=data_prep.remove_cols_with_one_unique_value(df_model2)"
   ]
  },
  {
   "cell_type": "code",
   "execution_count": 40,
   "metadata": {},
   "outputs": [
    {
     "data": {
      "text/plain": [
       "(214, 371)"
      ]
     },
     "execution_count": 40,
     "metadata": {},
     "output_type": "execute_result"
    }
   ],
   "source": [
    "df_model2_removed_one.shape"
   ]
  },
  {
   "cell_type": "code",
   "execution_count": 106,
   "metadata": {},
   "outputs": [
    {
     "name": "stdout",
     "output_type": "stream",
     "text": [
      "Number of categorical features: 299\n",
      "Number of numerical features: 92\n"
     ]
    }
   ],
   "source": [
    "imputed_df= missing_value_imputation(X, 'mean')\n",
    "#imputed_df.fillna(0, inplace=True)"
   ]
  },
  {
   "cell_type": "code",
   "execution_count": 87,
   "metadata": {},
   "outputs": [
    {
     "data": {
      "text/plain": [
       "(1000, 391)"
      ]
     },
     "execution_count": 87,
     "metadata": {},
     "output_type": "execute_result"
    }
   ],
   "source": [
    "imputed_df.shape"
   ]
  },
  {
   "cell_type": "markdown",
   "metadata": {},
   "source": [
    "### Outlier Treatment"
   ]
  },
  {
   "cell_type": "code",
   "execution_count": 107,
   "metadata": {},
   "outputs": [
    {
     "name": "stdout",
     "output_type": "stream",
     "text": [
      "\n",
      " Time taken to execute the function is 0.3229968547821045\n",
      "\n"
     ]
    }
   ],
   "source": [
    "df_outlier_treated= data_prep.outlier_treatment_dataframe(imputed_df)"
   ]
  },
  {
   "cell_type": "code",
   "execution_count": 108,
   "metadata": {},
   "outputs": [
    {
     "data": {
      "text/plain": [
       "(1000, 391)"
      ]
     },
     "execution_count": 108,
     "metadata": {},
     "output_type": "execute_result"
    }
   ],
   "source": [
    "df_outlier_treated.shape"
   ]
  },
  {
   "cell_type": "markdown",
   "metadata": {},
   "source": [
    "### Type Casting"
   ]
  },
  {
   "cell_type": "code",
   "execution_count": 109,
   "metadata": {
    "scrolled": true
   },
   "outputs": [
    {
     "name": "stdout",
     "output_type": "stream",
     "text": [
      "Converting to categorical variable from numerical: owned_lexus_sedan_ind\n",
      "Converting to categorical variable from numerical: owned_lexus_LUV_ind\n",
      "Converting to categorical variable from numerical: owned_lexus_new_luv_ind\n",
      "Converting to categorical variable from numerical: owned_lexus_cpo_luv_ind\n",
      "Converting to categorical variable from numerical: owned_lexus_new_sedan_ind\n",
      "Converting to categorical variable from numerical: owned_lexus_cpo_sedan_ind\n",
      "Converting to categorical variable from numerical: owned_toyota_ind\n",
      "Converting to categorical variable from numerical: owned_toyota_scion_ind\n",
      "Converting to categorical variable from numerical: owned_lexus_ind\n",
      "Converting to categorical variable from numerical: owned_scion_ind\n",
      "Converting to categorical variable from numerical: owned_camry_ind\n",
      "Converting to categorical variable from numerical: owned_corolla_ind\n",
      "Converting to categorical variable from numerical: owned_rav4_ind\n",
      "Converting to categorical variable from numerical: owned_prius_ind\n",
      "Converting to categorical variable from numerical: owned_truck_ind\n",
      "Converting to categorical variable from numerical: owned_suv_ind\n",
      "Converting to categorical variable from numerical: owned_hybrid_ind\n",
      "Converting to categorical variable from numerical: owned_big_engine_vehicle_ind\n",
      "Converting to categorical variable from numerical: owned_4wd_vehicle_ind\n",
      "Converting to categorical variable from numerical: multiple_vehicle_type_ind\n",
      "Converting to categorical variable from numerical: owned_camry_no\n",
      "Converting to categorical variable from numerical: owned_prius_no\n",
      "Converting to categorical variable from numerical: owned_hybrid_no\n",
      "Converting to categorical variable from numerical: ever_brand_migration_ind\n",
      "Converting to categorical variable from numerical: owned_tundra_ind\n",
      "Converting to categorical variable from numerical: owned_tacoma_ind\n",
      "Converting to categorical variable from numerical: owned_is250_ind\n",
      "Converting to categorical variable from numerical: owned_is350_ind\n",
      "Converting to categorical variable from numerical: owned_is_ind\n",
      "Converting to categorical variable from numerical: owned_es_ind\n",
      "Converting to categorical variable from numerical: owned_rx_ind\n",
      "Converting to categorical variable from numerical: owned_ls_ind\n",
      "Converting to categorical variable from numerical: owned_gs_ind\n",
      "Converting to categorical variable from numerical: owned_chr_ind\n",
      "Converting to categorical variable from numerical: owned_chr_scion_ind\n",
      "Converting to categorical variable from numerical: owned_highlander_ind\n",
      "Converting to categorical variable from numerical: owned_sienna_ind\n",
      "Converting to categorical variable from numerical: owned_4runner_ind\n",
      "Converting to categorical variable from numerical: owned_avalon_ind\n",
      "Converting to categorical variable from numerical: owned_hs250h_ind\n",
      "Converting to categorical variable from numerical: owned_ct200h_ind\n",
      "Converting to categorical variable from numerical: owned_white_vehicle_ind\n",
      "Converting to categorical variable from numerical: owned_black_vehicle_ind\n",
      "Converting to categorical variable from numerical: owned_silver_gray_vehicle_ind\n",
      "Converting to categorical variable from numerical: owned_gold_brown_orange_vehicle_ind\n",
      "Converting to categorical variable from numerical: owned_yellow_vehicle_ind\n",
      "Converting to categorical variable from numerical: owned_green_vehicle_ind\n",
      "Converting to categorical variable from numerical: owned_aqua_vehicle_ind\n",
      "Converting to categorical variable from numerical: owned_blue_vehicle_ind\n",
      "Converting to categorical variable from numerical: owned_purple_vehicle_ind\n",
      "Converting to categorical variable from numerical: owned_brown_vehicle_ind\n",
      "Converting to categorical variable from numerical: owned_gold_vehicle_ind\n",
      "Converting to categorical variable from numerical: owned_red_vehicle_ind\n",
      "Converting to categorical variable from numerical: owned_orange_vehicle_ind\n",
      "Converting to categorical variable from numerical: owned_other_color_vehicle_ind\n",
      "Converting to categorical variable from numerical: owned_gray_vehicle_ind\n",
      "Converting to categorical variable from numerical: owned_vehicle_my_1970_80_ind\n",
      "Converting to categorical variable from numerical: owned_vehicle_my_1981_90_ind\n",
      "Converting to categorical variable from numerical: owned_vehicle_my_1991_00_ind\n",
      "Converting to categorical variable from numerical: owned_vehicle_my_2001_10_ind\n",
      "Converting to categorical variable from numerical: owned_vehicle_my_2011_20_ind\n",
      "Converting to categorical variable from numerical: purchased_vehicle_last_2years_ind\n",
      "Converting to categorical variable from numerical: no_vehicles_purchased_last_5yr\n",
      "Converting to categorical variable from numerical: purchased_lexus_sedan_last_2years_ind\n",
      "Converting to categorical variable from numerical: purchased_lexus_sedan_last_3years_ind\n",
      "Converting to categorical variable from numerical: purchased_lexus_LUV_last_2years_ind\n",
      "Converting to categorical variable from numerical: purchased_lexus_LUV_last_3years_ind\n",
      "Converting to categorical variable from numerical: purchased_camry_last_2years_ind\n",
      "Converting to categorical variable from numerical: purchased_camry_last_3years_ind\n",
      "Converting to categorical variable from numerical: purchased_scion_last_2years_ind\n",
      "Converting to categorical variable from numerical: purchased_scion_last_3years_ind\n",
      "Converting to categorical variable from numerical: purchased_toyota_scion_last_3years_ind\n",
      "Converting to categorical variable from numerical: purchased_lexus_last_3years_ind\n",
      "Converting to categorical variable from numerical: purchased_rav4_last_3years_ind\n",
      "Converting to categorical variable from numerical: purchased_is_last_3years_ind\n",
      "Converting to categorical variable from numerical: current_owned_lexus_sedan_ind\n",
      "Converting to categorical variable from numerical: current_owned_lexus_LUV_ind\n",
      "Converting to categorical variable from numerical: current_owned_lexus_new_luv_ind\n",
      "Converting to categorical variable from numerical: current_owned_lexus_new_sedan_ind\n",
      "Converting to categorical variable from numerical: current_owned_lexus_cpo_luv_ind\n",
      "Converting to categorical variable from numerical: current_owned_lexus_cpo_sedan_ind\n",
      "Converting to categorical variable from numerical: current_owned_toyota_ind\n",
      "Converting to categorical variable from numerical: current_owned_toyota_scion_ind\n",
      "Converting to categorical variable from numerical: current_owned_lexus_ind\n",
      "Converting to categorical variable from numerical: current_owned_scion_ind\n",
      "Converting to categorical variable from numerical: current_owned_camry_ind\n",
      "Converting to categorical variable from numerical: current_owned_corolla_ind\n",
      "Converting to categorical variable from numerical: current_owned_rav4_ind\n",
      "Converting to categorical variable from numerical: current_owned_prius_ind\n",
      "Converting to categorical variable from numerical: current_owned_tundra_ind\n",
      "Converting to categorical variable from numerical: current_owned_tacoma_ind\n",
      "Converting to categorical variable from numerical: current_owned_is_ind\n",
      "Converting to categorical variable from numerical: current_owned_es_ind\n",
      "Converting to categorical variable from numerical: current_owned_rx_ind\n",
      "Converting to categorical variable from numerical: current_owned_ls_ind\n",
      "Converting to categorical variable from numerical: current_owned_gs_ind\n",
      "Converting to categorical variable from numerical: current_owned_chr_ind\n",
      "Converting to categorical variable from numerical: current_owned_chr_scion_ind\n",
      "Converting to categorical variable from numerical: current_owned_highlander_ind\n",
      "Converting to categorical variable from numerical: current_owned_sienna_ind\n",
      "Converting to categorical variable from numerical: current_owned_4runner_ind\n",
      "Converting to categorical variable from numerical: current_owned_avalon_ind\n",
      "Converting to categorical variable from numerical: past_owned_lexus_sedan_ind\n",
      "Converting to categorical variable from numerical: past_owned_lexus_LUV_ind\n",
      "Converting to categorical variable from numerical: past_owned_lexus_new_luv_ind\n",
      "Converting to categorical variable from numerical: past_owned_lexus_new_sedan_ind\n",
      "Converting to categorical variable from numerical: past_owned_lexus_cpo_luv_ind\n",
      "Converting to categorical variable from numerical: past_owned_lexus_cpo_sedan_ind\n",
      "Converting to categorical variable from numerical: past_owned_toyota_ind\n",
      "Converting to categorical variable from numerical: past_owned_toyota_scion_ind\n",
      "Converting to categorical variable from numerical: past_owned_lexus_ind\n",
      "Converting to categorical variable from numerical: past_owned_scion_ind\n",
      "Converting to categorical variable from numerical: past_owned_camry_ind\n",
      "Converting to categorical variable from numerical: past_owned_corolla_ind\n",
      "Converting to categorical variable from numerical: past_owned_rav4_ind\n",
      "Converting to categorical variable from numerical: past_owned_prius_ind\n",
      "Converting to categorical variable from numerical: past_owned_tundra_ind\n",
      "Converting to categorical variable from numerical: past_owned_tacoma_ind\n",
      "Converting to categorical variable from numerical: past_owned_is_ind\n",
      "Converting to categorical variable from numerical: past_owned_es_ind\n",
      "Converting to categorical variable from numerical: past_owned_rx_ind\n",
      "Converting to categorical variable from numerical: past_owned_ls_ind\n",
      "Converting to categorical variable from numerical: past_owned_gs_ind\n",
      "Converting to categorical variable from numerical: past_owned_chr_ind\n",
      "Converting to categorical variable from numerical: past_owned_chr_scion_ind\n",
      "Converting to categorical variable from numerical: past_owned_highlander_ind\n",
      "Converting to categorical variable from numerical: past_owned_sienna_ind\n",
      "Converting to categorical variable from numerical: past_owned_4runner_ind\n",
      "Converting to categorical variable from numerical: past_owned_avalon_ind\n",
      "Converting to categorical variable from numerical: purchased_vehicle_new_ind\n",
      "Converting to categorical variable from numerical: purchased_vehicle_used_ind\n",
      "Converting to categorical variable from numerical: purchased_vehicle_cpo_ind\n",
      "Converting to categorical variable from numerical: purchased_vehicle_toyota_ind\n",
      "Converting to categorical variable from numerical: purchased_vehicle_lexus_ind\n",
      "Converting to categorical variable from numerical: purchased_vehicle_scion_ind\n",
      "Converting to categorical variable from numerical: purchased_vehicle_truck_ind\n",
      "Converting to categorical variable from numerical: purchased_vehicle_suv_ind\n",
      "Converting to categorical variable from numerical: purchased_vehicle_hybrid_ind\n",
      "Converting to categorical variable from numerical: purchased_vehicle_big_engine_ind\n",
      "Converting to categorical variable from numerical: purchased_vehicle_4wd_ind\n",
      "Converting to categorical variable from numerical: purchased_vehicle_lexus_sedan_ind\n",
      "Converting to categorical variable from numerical: purchased_vehicle_lexus_LUV_ind\n",
      "Converting to categorical variable from numerical: purchased_vehicle_camry_ind\n",
      "Converting to categorical variable from numerical: purchased_vehicle_corolla_ind\n",
      "Converting to categorical variable from numerical: purchased_vehicle_rav4_ind\n",
      "Converting to categorical variable from numerical: purchased_vehicle_prius_ind\n",
      "Converting to categorical variable from numerical: first_purchase_ind\n",
      "Converting to categorical variable from numerical: first_purchase_lexus_sedan_ind\n",
      "Converting to categorical variable from numerical: first_purchase_lexus_LUV_ind\n",
      "Converting to categorical variable from numerical: first_purchase_toyota_ind\n",
      "Converting to categorical variable from numerical: first_purchase_scion_ind\n",
      "Converting to categorical variable from numerical: first_purchase_lexus_ind\n",
      "Converting to categorical variable from numerical: first_purchase_camry_ind\n",
      "Converting to categorical variable from numerical: first_purchase_hybrid_ind\n",
      "Converting to categorical variable from numerical: first_purchase_prius_ind\n",
      "Converting to categorical variable from numerical: first_purchase_big_engine_ind\n",
      "Converting to categorical variable from numerical: first_purchase_suv_ind\n",
      "Converting to categorical variable from numerical: no_leased_vehicle\n",
      "Converting to categorical variable from numerical: dofu_year1_ind\n",
      "Converting to categorical variable from numerical: dofu_year2_ind\n",
      "Converting to categorical variable from numerical: dofu_year3_ind\n",
      "Converting to categorical variable from numerical: dofu_year4_ind\n",
      "Converting to categorical variable from numerical: dofu_year5_ind\n",
      "Converting to categorical variable from numerical: dofu_year5above_ind\n",
      "Converting to categorical variable from numerical: toyota_care_status\n",
      "Converting to categorical variable from numerical: tc_completed_ind\n",
      "Converting to categorical variable from numerical: tc_active_ind\n",
      "Converting to categorical variable from numerical: tc_only1_ind\n",
      "Converting to categorical variable from numerical: tc_only2_ind\n",
      "Converting to categorical variable from numerical: tc_only3_ind\n",
      "Converting to categorical variable from numerical: tc_only4_ind\n",
      "Converting to categorical variable from numerical: tc_only5_ind\n",
      "Converting to categorical variable from numerical: first_purchase_luxury_vehicle_ind\n",
      "Converting to categorical variable from numerical: owned_corolla_no\n",
      "Converting to categorical variable from numerical: owned_toyota_sedan_ind\n",
      "Converting to categorical variable from numerical: owned_toyota_family_ind\n",
      "Converting to categorical variable from numerical: owned_toyota_sport_ind\n",
      "Converting to categorical variable from numerical: owned_toyota_compact_ind\n",
      "Converting to categorical variable from numerical: owned_toyota_compactsuv_ind\n",
      "Converting to categorical variable from numerical: owned_toyota_fullsizesuv_ind\n",
      "Converting to categorical variable from numerical: owned_toyota_hybrid_ind\n",
      "Converting to categorical variable from numerical: owned_toyota_luxurymidsize_ind\n",
      "Converting to categorical variable from numerical: owned_toyota_midsize_ind\n",
      "Converting to categorical variable from numerical: owned_toyota_midsizesuv_ind\n",
      "Converting to categorical variable from numerical: owned_toyota_pickup_ind\n",
      "Converting to categorical variable from numerical: owned_toyota_premiummidsize_ind\n",
      "Converting to categorical variable from numerical: owned_toyota_sportscar_ind\n",
      "Converting to categorical variable from numerical: owned_toyota_subcompact_ind\n",
      "Converting to categorical variable from numerical: owned_toyota_subcompactsuv_ind\n",
      "Converting to categorical variable from numerical: owned_toyota_van_ind\n",
      "Converting to categorical variable from numerical: past_owned_toyota_compact_ind\n",
      "Converting to categorical variable from numerical: past_owned_toyota_compactsuv_ind\n",
      "Converting to categorical variable from numerical: past_owned_toyota_fullsizesuv_ind\n",
      "Converting to categorical variable from numerical: past_owned_toyota_hybrid_ind\n",
      "Converting to categorical variable from numerical: past_owned_toyota_luxurymidsize_ind\n",
      "Converting to categorical variable from numerical: past_owned_toyota_midsize_ind\n",
      "Converting to categorical variable from numerical: past_owned_toyota_midsizesuv_ind\n",
      "Converting to categorical variable from numerical: past_owned_toyota_pickup_ind\n",
      "Converting to categorical variable from numerical: past_owned_toyota_premiummidsize_ind\n",
      "Converting to categorical variable from numerical: past_owned_toyota_sportscar_ind\n",
      "Converting to categorical variable from numerical: past_owned_toyota_subcompact_ind\n",
      "Converting to categorical variable from numerical: past_owned_toyota_subcompactsuv_ind\n",
      "Converting to categorical variable from numerical: past_owned_toyota_van_ind\n",
      "Converting to categorical variable from numerical: current_owned_toyota_compact_ind\n",
      "Converting to categorical variable from numerical: current_owned_toyota_compactsuv_ind\n",
      "Converting to categorical variable from numerical: current_owned_toyota_fullsizesuv_ind\n",
      "Converting to categorical variable from numerical: current_owned_toyota_hybrid_ind\n",
      "Converting to categorical variable from numerical: current_owned_toyota_luxurymidsize_ind\n",
      "Converting to categorical variable from numerical: current_owned_toyota_midsize_ind\n",
      "Converting to categorical variable from numerical: current_owned_toyota_midsizesuv_ind\n",
      "Converting to categorical variable from numerical: current_owned_toyota_pickup_ind\n",
      "Converting to categorical variable from numerical: current_owned_toyota_premiummidsize_ind\n",
      "Converting to categorical variable from numerical: current_owned_toyota_sportscar_ind\n",
      "Converting to categorical variable from numerical: current_owned_toyota_subcompact_ind\n",
      "Converting to categorical variable from numerical: current_owned_toyota_subcompactsuv_ind\n",
      "Converting to categorical variable from numerical: current_owned_toyota_van_ind\n",
      "Converting to categorical variable from numerical: past_owned_toyota_4wd_ind\n",
      "Converting to categorical variable from numerical: past_owned_toyota_family_ind\n",
      "Converting to categorical variable from numerical: past_owned_toyota_sedan_ind\n",
      "Converting to categorical variable from numerical: past_owned_toyota_sport_ind\n",
      "Converting to categorical variable from numerical: past_owned_toyota_suv_ind\n",
      "Converting to categorical variable from numerical: past_owned_toyota_truck_ind\n",
      "Converting to categorical variable from numerical: first_purchase_sport_vehicle_ind\n",
      "Converting to categorical variable from numerical: driver_ind\n",
      "Converting to categorical variable from numerical: owner_ind\n",
      "Converting to categorical variable from numerical: sales_survey_ind\n",
      "Converting to categorical variable from numerical: service_survey_ind\n",
      "Converting to categorical variable from numerical: sales_would_return_ind\n",
      "Converting to categorical variable from numerical: sales_would_recommend_ind\n",
      "Converting to categorical variable from numerical: service_would_return_ind\n",
      "Converting to categorical variable from numerical: service_would_recommend_ind\n",
      "Converting to categorical variable from numerical: has_uss\n",
      "Converting to categorical variable from numerical: multiple_case_type_ind\n",
      "Converting to categorical variable from numerical: has_cec\n",
      "Converting to categorical variable from numerical: lhr_incomplete_lead_ind\n",
      "Converting to categorical variable from numerical: lhr_sweepstakes_1_permission_ind\n",
      "Converting to categorical variable from numerical: current_lead\n",
      "Converting to categorical variable from numerical: current_handraiser\n",
      "Converting to categorical variable from numerical: current_participator\n",
      "Converting to categorical variable from numerical: ever_lead_ind\n",
      "Converting to categorical variable from numerical: ever_handraiser_ind\n",
      "Converting to categorical variable from numerical: ever_participator_ind\n",
      "Converting to categorical variable from numerical: has_emd\n",
      "Converting to categorical variable from numerical: communication_received_ind\n",
      "Converting to categorical variable from numerical: campaign_received_ind\n",
      "Converting to categorical variable from numerical: offer_received_ind\n",
      "Converting to categorical variable from numerical: communication_opened_ind\n",
      "Converting to categorical variable from numerical: communication_clicked_ind\n",
      "Converting to categorical variable from numerical: campaign_opened_ind\n",
      "Converting to categorical variable from numerical: campaign_clicked_ind\n",
      "Converting to categorical variable from numerical: brochure_requested_ind\n",
      "Converting to categorical variable from numerical: active_offer_ind\n"
     ]
    },
    {
     "name": "stdout",
     "output_type": "stream",
     "text": [
      "Converting to categorical variable from numerical: dealer_loyalist\n",
      "Converting to categorical variable from numerical: noros_high_cust_pay_18_24mo\n",
      "Converting to categorical variable from numerical: noros_high_cust_pay_12_18mo\n",
      "Converting to categorical variable from numerical: noros_high_cust_pay_6_12mo\n",
      "Converting to categorical variable from numerical: noros_high_cust_pay_0_6mo\n",
      "Converting to categorical variable from numerical: no_ro_visit_during_tc\n",
      "Converting to categorical variable from numerical: no_ro_visits_post_0_2_tc\n",
      "Converting to categorical variable from numerical: no_ro_visits_post_2_4_tc\n",
      "Converting to categorical variable from numerical: no_ro_visits_post_4_6_tc\n",
      "Converting to categorical variable from numerical: no_ro_visits_post_over6_tc\n",
      "Converting to categorical variable from numerical: ro_after_ocpe_ind\n",
      "Converting to categorical variable from numerical: ever_customer_payment_ind\n",
      "Converting to categorical variable from numerical: ever_warranty_payment_ind\n",
      "Converting to categorical variable from numerical: ever_service_ind\n",
      "Converting to categorical variable from numerical: ever_service_hybrid_ind\n",
      "Converting to categorical variable from numerical: ever_service_lexus_sedan_ind\n",
      "Converting to categorical variable from numerical: ever_service_lexus_LUV_ind\n",
      "Converting to categorical variable from numerical: ever_service_camry_ind\n",
      "Converting to categorical variable from numerical: ever_service_prius_ind\n",
      "Converting to categorical variable from numerical: customer_high_payment_ind\n",
      "Converting to categorical variable from numerical: warranty_high_payment_ind\n",
      "Converting to categorical variable from numerical: high_service_ind\n",
      "Converting to categorical variable from numerical: high_ro_time_ind\n",
      "Converting to categorical variable from numerical: current_vehicle_serviced_ind\n",
      "Converting to categorical variable from numerical: current_vehicle_customer_full_payment_ind\n",
      "Converting to categorical variable from numerical: current_vehicle_high_service_ind\n",
      "Converting to categorical variable from numerical: current_vehicle_high_ro_time_ind\n",
      "Converting to categorical variable from numerical: has_nsh\n",
      "Converting to categorical variable from numerical: customer_language_english_ind\n",
      "Converting to categorical variable from numerical: customer_language_spanish_ind\n",
      "Total number of numerical Variables changed to Categorical Variable is 282\n",
      "Total number of Categorical Variables dropped is 0\n",
      "\n",
      " Time taken to execute the function is 0.4576418399810791\n",
      "\n"
     ]
    }
   ],
   "source": [
    "df_casted, num_to_cat= data_prep.type_casting(df_outlier_treated, 5, 5)"
   ]
  },
  {
   "cell_type": "code",
   "execution_count": 110,
   "metadata": {},
   "outputs": [
    {
     "data": {
      "text/plain": [
       "['owned_lexus_sedan_ind',\n",
       " 'owned_lexus_LUV_ind',\n",
       " 'owned_lexus_new_luv_ind',\n",
       " 'owned_lexus_cpo_luv_ind',\n",
       " 'owned_lexus_new_sedan_ind',\n",
       " 'owned_lexus_cpo_sedan_ind',\n",
       " 'owned_toyota_ind',\n",
       " 'owned_toyota_scion_ind',\n",
       " 'owned_lexus_ind',\n",
       " 'owned_scion_ind',\n",
       " 'owned_camry_ind',\n",
       " 'owned_corolla_ind',\n",
       " 'owned_rav4_ind',\n",
       " 'owned_prius_ind',\n",
       " 'owned_truck_ind',\n",
       " 'owned_suv_ind',\n",
       " 'owned_hybrid_ind',\n",
       " 'owned_big_engine_vehicle_ind',\n",
       " 'owned_4wd_vehicle_ind',\n",
       " 'multiple_vehicle_type_ind',\n",
       " 'owned_camry_no',\n",
       " 'owned_prius_no',\n",
       " 'owned_hybrid_no',\n",
       " 'ever_brand_migration_ind',\n",
       " 'owned_tundra_ind',\n",
       " 'owned_tacoma_ind',\n",
       " 'owned_is250_ind',\n",
       " 'owned_is350_ind',\n",
       " 'owned_is_ind',\n",
       " 'owned_es_ind',\n",
       " 'owned_rx_ind',\n",
       " 'owned_ls_ind',\n",
       " 'owned_gs_ind',\n",
       " 'owned_chr_ind',\n",
       " 'owned_chr_scion_ind',\n",
       " 'owned_highlander_ind',\n",
       " 'owned_sienna_ind',\n",
       " 'owned_4runner_ind',\n",
       " 'owned_avalon_ind',\n",
       " 'owned_hs250h_ind',\n",
       " 'owned_ct200h_ind',\n",
       " 'owned_white_vehicle_ind',\n",
       " 'owned_black_vehicle_ind',\n",
       " 'owned_silver_gray_vehicle_ind',\n",
       " 'owned_gold_brown_orange_vehicle_ind',\n",
       " 'owned_yellow_vehicle_ind',\n",
       " 'owned_green_vehicle_ind',\n",
       " 'owned_aqua_vehicle_ind',\n",
       " 'owned_blue_vehicle_ind',\n",
       " 'owned_purple_vehicle_ind',\n",
       " 'owned_brown_vehicle_ind',\n",
       " 'owned_gold_vehicle_ind',\n",
       " 'owned_red_vehicle_ind',\n",
       " 'owned_orange_vehicle_ind',\n",
       " 'owned_other_color_vehicle_ind',\n",
       " 'owned_gray_vehicle_ind',\n",
       " 'owned_vehicle_my_1970_80_ind',\n",
       " 'owned_vehicle_my_1981_90_ind',\n",
       " 'owned_vehicle_my_1991_00_ind',\n",
       " 'owned_vehicle_my_2001_10_ind',\n",
       " 'owned_vehicle_my_2011_20_ind',\n",
       " 'purchased_vehicle_last_2years_ind',\n",
       " 'no_vehicles_purchased_last_5yr',\n",
       " 'purchased_lexus_sedan_last_2years_ind',\n",
       " 'purchased_lexus_sedan_last_3years_ind',\n",
       " 'purchased_lexus_LUV_last_2years_ind',\n",
       " 'purchased_lexus_LUV_last_3years_ind',\n",
       " 'purchased_camry_last_2years_ind',\n",
       " 'purchased_camry_last_3years_ind',\n",
       " 'purchased_scion_last_2years_ind',\n",
       " 'purchased_scion_last_3years_ind',\n",
       " 'purchased_toyota_scion_last_3years_ind',\n",
       " 'purchased_lexus_last_3years_ind',\n",
       " 'purchased_rav4_last_3years_ind',\n",
       " 'purchased_is_last_3years_ind',\n",
       " 'current_owned_lexus_sedan_ind',\n",
       " 'current_owned_lexus_LUV_ind',\n",
       " 'current_owned_lexus_new_luv_ind',\n",
       " 'current_owned_lexus_new_sedan_ind',\n",
       " 'current_owned_lexus_cpo_luv_ind',\n",
       " 'current_owned_lexus_cpo_sedan_ind',\n",
       " 'current_owned_toyota_ind',\n",
       " 'current_owned_toyota_scion_ind',\n",
       " 'current_owned_lexus_ind',\n",
       " 'current_owned_scion_ind',\n",
       " 'current_owned_camry_ind',\n",
       " 'current_owned_corolla_ind',\n",
       " 'current_owned_rav4_ind',\n",
       " 'current_owned_prius_ind',\n",
       " 'current_owned_tundra_ind',\n",
       " 'current_owned_tacoma_ind',\n",
       " 'current_owned_is_ind',\n",
       " 'current_owned_es_ind',\n",
       " 'current_owned_rx_ind',\n",
       " 'current_owned_ls_ind',\n",
       " 'current_owned_gs_ind',\n",
       " 'current_owned_chr_ind',\n",
       " 'current_owned_chr_scion_ind',\n",
       " 'current_owned_highlander_ind',\n",
       " 'current_owned_sienna_ind',\n",
       " 'current_owned_4runner_ind',\n",
       " 'current_owned_avalon_ind',\n",
       " 'past_owned_lexus_sedan_ind',\n",
       " 'past_owned_lexus_LUV_ind',\n",
       " 'past_owned_lexus_new_luv_ind',\n",
       " 'past_owned_lexus_new_sedan_ind',\n",
       " 'past_owned_lexus_cpo_luv_ind',\n",
       " 'past_owned_lexus_cpo_sedan_ind',\n",
       " 'past_owned_toyota_ind',\n",
       " 'past_owned_toyota_scion_ind',\n",
       " 'past_owned_lexus_ind',\n",
       " 'past_owned_scion_ind',\n",
       " 'past_owned_camry_ind',\n",
       " 'past_owned_corolla_ind',\n",
       " 'past_owned_rav4_ind',\n",
       " 'past_owned_prius_ind',\n",
       " 'past_owned_tundra_ind',\n",
       " 'past_owned_tacoma_ind',\n",
       " 'past_owned_is_ind',\n",
       " 'past_owned_es_ind',\n",
       " 'past_owned_rx_ind',\n",
       " 'past_owned_ls_ind',\n",
       " 'past_owned_gs_ind',\n",
       " 'past_owned_chr_ind',\n",
       " 'past_owned_chr_scion_ind',\n",
       " 'past_owned_highlander_ind',\n",
       " 'past_owned_sienna_ind',\n",
       " 'past_owned_4runner_ind',\n",
       " 'past_owned_avalon_ind',\n",
       " 'purchased_vehicle_new_ind',\n",
       " 'purchased_vehicle_used_ind',\n",
       " 'purchased_vehicle_cpo_ind',\n",
       " 'purchased_vehicle_toyota_ind',\n",
       " 'purchased_vehicle_lexus_ind',\n",
       " 'purchased_vehicle_scion_ind',\n",
       " 'purchased_vehicle_truck_ind',\n",
       " 'purchased_vehicle_suv_ind',\n",
       " 'purchased_vehicle_hybrid_ind',\n",
       " 'purchased_vehicle_big_engine_ind',\n",
       " 'purchased_vehicle_4wd_ind',\n",
       " 'purchased_vehicle_lexus_sedan_ind',\n",
       " 'purchased_vehicle_lexus_LUV_ind',\n",
       " 'purchased_vehicle_camry_ind',\n",
       " 'purchased_vehicle_corolla_ind',\n",
       " 'purchased_vehicle_rav4_ind',\n",
       " 'purchased_vehicle_prius_ind',\n",
       " 'first_purchase_ind',\n",
       " 'first_purchase_lexus_sedan_ind',\n",
       " 'first_purchase_lexus_LUV_ind',\n",
       " 'first_purchase_toyota_ind',\n",
       " 'first_purchase_scion_ind',\n",
       " 'first_purchase_lexus_ind',\n",
       " 'first_purchase_camry_ind',\n",
       " 'first_purchase_hybrid_ind',\n",
       " 'first_purchase_prius_ind',\n",
       " 'first_purchase_big_engine_ind',\n",
       " 'first_purchase_suv_ind',\n",
       " 'no_leased_vehicle',\n",
       " 'dofu_year1_ind',\n",
       " 'dofu_year2_ind',\n",
       " 'dofu_year3_ind',\n",
       " 'dofu_year4_ind',\n",
       " 'dofu_year5_ind',\n",
       " 'dofu_year5above_ind',\n",
       " 'toyota_care_status',\n",
       " 'tc_completed_ind',\n",
       " 'tc_active_ind',\n",
       " 'tc_only1_ind',\n",
       " 'tc_only2_ind',\n",
       " 'tc_only3_ind',\n",
       " 'tc_only4_ind',\n",
       " 'tc_only5_ind',\n",
       " 'first_purchase_luxury_vehicle_ind',\n",
       " 'owned_corolla_no',\n",
       " 'owned_toyota_sedan_ind',\n",
       " 'owned_toyota_family_ind',\n",
       " 'owned_toyota_sport_ind',\n",
       " 'owned_toyota_compact_ind',\n",
       " 'owned_toyota_compactsuv_ind',\n",
       " 'owned_toyota_fullsizesuv_ind',\n",
       " 'owned_toyota_hybrid_ind',\n",
       " 'owned_toyota_luxurymidsize_ind',\n",
       " 'owned_toyota_midsize_ind',\n",
       " 'owned_toyota_midsizesuv_ind',\n",
       " 'owned_toyota_pickup_ind',\n",
       " 'owned_toyota_premiummidsize_ind',\n",
       " 'owned_toyota_sportscar_ind',\n",
       " 'owned_toyota_subcompact_ind',\n",
       " 'owned_toyota_subcompactsuv_ind',\n",
       " 'owned_toyota_van_ind',\n",
       " 'past_owned_toyota_compact_ind',\n",
       " 'past_owned_toyota_compactsuv_ind',\n",
       " 'past_owned_toyota_fullsizesuv_ind',\n",
       " 'past_owned_toyota_hybrid_ind',\n",
       " 'past_owned_toyota_luxurymidsize_ind',\n",
       " 'past_owned_toyota_midsize_ind',\n",
       " 'past_owned_toyota_midsizesuv_ind',\n",
       " 'past_owned_toyota_pickup_ind',\n",
       " 'past_owned_toyota_premiummidsize_ind',\n",
       " 'past_owned_toyota_sportscar_ind',\n",
       " 'past_owned_toyota_subcompact_ind',\n",
       " 'past_owned_toyota_subcompactsuv_ind',\n",
       " 'past_owned_toyota_van_ind',\n",
       " 'current_owned_toyota_compact_ind',\n",
       " 'current_owned_toyota_compactsuv_ind',\n",
       " 'current_owned_toyota_fullsizesuv_ind',\n",
       " 'current_owned_toyota_hybrid_ind',\n",
       " 'current_owned_toyota_luxurymidsize_ind',\n",
       " 'current_owned_toyota_midsize_ind',\n",
       " 'current_owned_toyota_midsizesuv_ind',\n",
       " 'current_owned_toyota_pickup_ind',\n",
       " 'current_owned_toyota_premiummidsize_ind',\n",
       " 'current_owned_toyota_sportscar_ind',\n",
       " 'current_owned_toyota_subcompact_ind',\n",
       " 'current_owned_toyota_subcompactsuv_ind',\n",
       " 'current_owned_toyota_van_ind',\n",
       " 'past_owned_toyota_4wd_ind',\n",
       " 'past_owned_toyota_family_ind',\n",
       " 'past_owned_toyota_sedan_ind',\n",
       " 'past_owned_toyota_sport_ind',\n",
       " 'past_owned_toyota_suv_ind',\n",
       " 'past_owned_toyota_truck_ind',\n",
       " 'first_purchase_sport_vehicle_ind',\n",
       " 'driver_ind',\n",
       " 'owner_ind',\n",
       " 'sales_survey_ind',\n",
       " 'service_survey_ind',\n",
       " 'sales_would_return_ind',\n",
       " 'sales_would_recommend_ind',\n",
       " 'service_would_return_ind',\n",
       " 'service_would_recommend_ind',\n",
       " 'has_uss',\n",
       " 'multiple_case_type_ind',\n",
       " 'has_cec',\n",
       " 'lhr_incomplete_lead_ind',\n",
       " 'lhr_sweepstakes_1_permission_ind',\n",
       " 'current_lead',\n",
       " 'current_handraiser',\n",
       " 'current_participator',\n",
       " 'ever_lead_ind',\n",
       " 'ever_handraiser_ind',\n",
       " 'ever_participator_ind',\n",
       " 'has_emd',\n",
       " 'communication_received_ind',\n",
       " 'campaign_received_ind',\n",
       " 'offer_received_ind',\n",
       " 'communication_opened_ind',\n",
       " 'communication_clicked_ind',\n",
       " 'campaign_opened_ind',\n",
       " 'campaign_clicked_ind',\n",
       " 'brochure_requested_ind',\n",
       " 'active_offer_ind',\n",
       " 'dealer_loyalist',\n",
       " 'noros_high_cust_pay_18_24mo',\n",
       " 'noros_high_cust_pay_12_18mo',\n",
       " 'noros_high_cust_pay_6_12mo',\n",
       " 'noros_high_cust_pay_0_6mo',\n",
       " 'no_ro_visit_during_tc',\n",
       " 'no_ro_visits_post_0_2_tc',\n",
       " 'no_ro_visits_post_2_4_tc',\n",
       " 'no_ro_visits_post_4_6_tc',\n",
       " 'no_ro_visits_post_over6_tc',\n",
       " 'ro_after_ocpe_ind',\n",
       " 'ever_customer_payment_ind',\n",
       " 'ever_warranty_payment_ind',\n",
       " 'ever_service_ind',\n",
       " 'ever_service_hybrid_ind',\n",
       " 'ever_service_lexus_sedan_ind',\n",
       " 'ever_service_lexus_LUV_ind',\n",
       " 'ever_service_camry_ind',\n",
       " 'ever_service_prius_ind',\n",
       " 'customer_high_payment_ind',\n",
       " 'warranty_high_payment_ind',\n",
       " 'high_service_ind',\n",
       " 'high_ro_time_ind',\n",
       " 'current_vehicle_serviced_ind',\n",
       " 'current_vehicle_customer_full_payment_ind',\n",
       " 'current_vehicle_high_service_ind',\n",
       " 'current_vehicle_high_ro_time_ind',\n",
       " 'has_nsh',\n",
       " 'customer_language_english_ind',\n",
       " 'customer_language_spanish_ind']"
      ]
     },
     "execution_count": 110,
     "metadata": {},
     "output_type": "execute_result"
    }
   ],
   "source": [
    "num_to_cat"
   ]
  },
  {
   "cell_type": "code",
   "execution_count": 111,
   "metadata": {},
   "outputs": [
    {
     "data": {
      "text/plain": [
       "(1000,)"
      ]
     },
     "execution_count": 111,
     "metadata": {},
     "output_type": "execute_result"
    }
   ],
   "source": [
    "y.shape"
   ]
  },
  {
   "cell_type": "code",
   "execution_count": 112,
   "metadata": {},
   "outputs": [
    {
     "data": {
      "text/plain": [
       "(1000, 391)"
      ]
     },
     "execution_count": 112,
     "metadata": {},
     "output_type": "execute_result"
    }
   ],
   "source": [
    "X.shape"
   ]
  },
  {
   "cell_type": "markdown",
   "metadata": {},
   "source": [
    "### Correlation"
   ]
  },
  {
   "cell_type": "code",
   "execution_count": 113,
   "metadata": {},
   "outputs": [
    {
     "name": "stdout",
     "output_type": "stream",
     "text": [
      "\n",
      " Time taken to execute the function is 0.1273486614227295\n",
      "\n"
     ]
    }
   ],
   "source": [
    "record_corr, X_corr_treated=data_prep.remove_col_with_corr(df_casted, .7)"
   ]
  },
  {
   "cell_type": "code",
   "execution_count": 114,
   "metadata": {},
   "outputs": [
    {
     "data": {
      "text/plain": [
       "(1000, 355)"
      ]
     },
     "execution_count": 114,
     "metadata": {},
     "output_type": "execute_result"
    }
   ],
   "source": [
    "X_corr_treated.shape"
   ]
  },
  {
   "cell_type": "code",
   "execution_count": 115,
   "metadata": {},
   "outputs": [
    {
     "name": "stdout",
     "output_type": "stream",
     "text": [
      "Number of categorical features: 299\n",
      "\n",
      " Time taken to execute the function is 0.1576848030090332\n",
      "\n"
     ]
    }
   ],
   "source": [
    "X_corr_treated_encoded=data_prep.label_encode(X_corr_treated)"
   ]
  },
  {
   "cell_type": "code",
   "execution_count": 116,
   "metadata": {},
   "outputs": [
    {
     "data": {
      "text/plain": [
       "(1000, 355)"
      ]
     },
     "execution_count": 116,
     "metadata": {},
     "output_type": "execute_result"
    }
   ],
   "source": [
    "X_corr_treated_encoded.shape"
   ]
  },
  {
   "cell_type": "markdown",
   "metadata": {},
   "source": [
    "## Storing the processed dataframe"
   ]
  },
  {
   "cell_type": "code",
   "execution_count": 76,
   "metadata": {},
   "outputs": [],
   "source": [
    "df_h5=X_corr_treated_encoded.to_hdf(mlresult_dir + str(project_identifier) + '_' + str(datetime.datetime.now().day)+ '_X.h5', key= 'df')\n",
    "df_h5=X_corr_treated_encoded.to_hdf(mlresult_dir + str(project_identifier) + '_' + str(datetime.datetime.now().day)+ '_y.h5', key= 'df')"
   ]
  },
  {
   "cell_type": "code",
   "execution_count": 117,
   "metadata": {},
   "outputs": [],
   "source": [
    "X_corr_treated_encoded=X_corr_treated_encoded.abs()\n"
   ]
  },
  {
   "cell_type": "code",
   "execution_count": 101,
   "metadata": {},
   "outputs": [
    {
     "data": {
      "text/plain": [
       "(1000, 355)"
      ]
     },
     "execution_count": 101,
     "metadata": {},
     "output_type": "execute_result"
    }
   ],
   "source": [
    "X_corr_treated.shape"
   ]
  },
  {
   "cell_type": "code",
   "execution_count": 82,
   "metadata": {},
   "outputs": [],
   "source": [
    "import modelData_split, StatisticalModels"
   ]
  },
  {
   "cell_type": "code",
   "execution_count": 118,
   "metadata": {},
   "outputs": [],
   "source": [
    "X_train, X_test, y_train, y_test=modelData_split.train_test_split(X_corr_treated_encoded, y)"
   ]
  },
  {
   "cell_type": "code",
   "execution_count": 368,
   "metadata": {},
   "outputs": [
    {
     "name": "stdout",
     "output_type": "stream",
     "text": [
      "R squared Score on Train: 0.09123993282143161\n",
      "R squared Score on Test: -0.03915715494405281\n",
      "Adjusted R Squared Score on Train: -0.8346665507189965\n",
      "Adjusted R Squared Score on Test: 3.0058149734966597\n",
      "Root Mean Squared error on Train: 0.36059011624933546\n",
      "Root Mean Squared error on Test: 0.22554515632169198\n",
      "Lasso baseline model: Time Taken-  0.018381118774414062\n"
     ]
    },
    {
     "data": {
      "image/png": "[encoded data removed]",
      "text/plain": [
       "<Figure size 432x288 with 1 Axes>"
      ]
     },
     "metadata": {},
     "output_type": "display_data"
    }
   ],
   "source": [
    "lasso= StatisticalModels.lasso_baseline_model(X_train,y_train, X_test,  y_test)"
   ]
  },
  {
   "cell_type": "code",
   "execution_count": 370,
   "metadata": {},
   "outputs": [
    {
     "name": "stdout",
     "output_type": "stream",
     "text": [
      "R squared Score on Train: 0.9985934735057298\n",
      "R squared Score on Test: 0.9971654545730546\n",
      "Adjusted R Squared Score on Train: 0.9971604087757187\n",
      "Adjusted R Squared Score on Test: 1.0054713318706154\n",
      "Root Mean Squared error on Train: 0.0005581006146664105\n",
      "Root Mean Squared error on Test: 0.0006152274354072646\n",
      "Ridge baseline model: Time Taken-  0.016975879669189453\n"
     ]
    },
    {
     "data": {
      "image/png": "[encoded data removed]",
      "text/plain": [
       "<Figure size 432x288 with 1 Axes>"
      ]
     },
     "metadata": {},
     "output_type": "display_data"
    }
   ],
   "source": [
    "ridge= StatisticalModels.ridge_baseline_model(X_train,y_train, X_test,  y_test)"
   ]
  },
  {
   "cell_type": "code",
   "execution_count": 373,
   "metadata": {},
   "outputs": [
    {
     "name": "stdout",
     "output_type": "stream",
     "text": [
      "Fitting 5 folds for each of 3 candidates, totalling 15 fits\n"
     ]
    },
    {
     "name": "stderr",
     "output_type": "stream",
     "text": [
      "[Parallel(n_jobs=1)]: Using backend SequentialBackend with 1 concurrent workers.\n"
     ]
    },
    {
     "name": "stdout",
     "output_type": "stream",
     "text": [
      "[CV] alpha=0.001 .....................................................\n",
      "[CV] ............ alpha=0.001, score=0.9999917888437753, total=   0.0s\n"
     ]
    },
    {
     "name": "stderr",
     "output_type": "stream",
     "text": [
      "[Parallel(n_jobs=1)]: Done   1 out of   1 | elapsed:    0.0s remaining:    0.0s\n"
     ]
    },
    {
     "name": "stdout",
     "output_type": "stream",
     "text": [
      "[CV] alpha=0.001 .....................................................\n",
      "[CV] .............. alpha=0.001, score=0.99999457221019, total=   0.0s\n"
     ]
    },
    {
     "name": "stderr",
     "output_type": "stream",
     "text": [
      "[Parallel(n_jobs=1)]: Done   2 out of   2 | elapsed:    0.0s remaining:    0.0s\n"
     ]
    },
    {
     "name": "stdout",
     "output_type": "stream",
     "text": [
      "[CV] alpha=0.001 .....................................................\n",
      "[CV] ............ alpha=0.001, score=0.9999936605765125, total=   0.0s\n"
     ]
    },
    {
     "name": "stderr",
     "output_type": "stream",
     "text": [
      "[Parallel(n_jobs=1)]: Done   3 out of   3 | elapsed:    0.1s remaining:    0.0s\n"
     ]
    },
    {
     "name": "stdout",
     "output_type": "stream",
     "text": [
      "[CV] alpha=0.001 .....................................................\n",
      "[CV] ............ alpha=0.001, score=0.9999658214622372, total=   0.0s\n"
     ]
    },
    {
     "name": "stderr",
     "output_type": "stream",
     "text": [
      "[Parallel(n_jobs=1)]: Done   4 out of   4 | elapsed:    0.1s remaining:    0.0s\n"
     ]
    },
    {
     "name": "stdout",
     "output_type": "stream",
     "text": [
      "[CV] alpha=0.001 .....................................................\n",
      "[CV] ............ alpha=0.001, score=0.9999932019711825, total=   0.0s\n"
     ]
    },
    {
     "name": "stderr",
     "output_type": "stream",
     "text": [
      "[Parallel(n_jobs=1)]: Done   5 out of   5 | elapsed:    0.1s remaining:    0.0s\n"
     ]
    },
    {
     "name": "stdout",
     "output_type": "stream",
     "text": [
      "[CV] alpha=0.1 .......................................................\n",
      "[CV] .............. alpha=0.1, score=0.9178884751557436, total=   0.0s\n"
     ]
    },
    {
     "name": "stderr",
     "output_type": "stream",
     "text": [
      "[Parallel(n_jobs=1)]: Done   6 out of   6 | elapsed:    0.1s remaining:    0.0s\n"
     ]
    },
    {
     "name": "stdout",
     "output_type": "stream",
     "text": [
      "[CV] alpha=0.1 .......................................................\n",
      "[CV] .............. alpha=0.1, score=0.9457221105642936, total=   0.0s\n"
     ]
    },
    {
     "name": "stderr",
     "output_type": "stream",
     "text": [
      "[Parallel(n_jobs=1)]: Done   7 out of   7 | elapsed:    0.1s remaining:    0.0s\n"
     ]
    },
    {
     "name": "stdout",
     "output_type": "stream",
     "text": [
      "[CV] alpha=0.1 .......................................................\n",
      "[CV] ............... alpha=0.1, score=0.936605764164044, total=   0.0s\n"
     ]
    },
    {
     "name": "stderr",
     "output_type": "stream",
     "text": [
      "[Parallel(n_jobs=1)]: Done   8 out of   8 | elapsed:    0.1s remaining:    0.0s\n"
     ]
    },
    {
     "name": "stdout",
     "output_type": "stream",
     "text": [
      "[CV] alpha=0.1 .......................................................\n",
      "[CV] .............. alpha=0.1, score=0.6582146224288083, total=   0.3s\n"
     ]
    },
    {
     "name": "stderr",
     "output_type": "stream",
     "text": [
      "[Parallel(n_jobs=1)]: Done   9 out of   9 | elapsed:    0.4s remaining:    0.0s\n"
     ]
    },
    {
     "name": "stdout",
     "output_type": "stream",
     "text": [
      "[CV] alpha=0.1 .......................................................\n",
      "[CV] .............. alpha=0.1, score=0.9320197096665872, total=   0.0s\n",
      "[CV] alpha=10 ........................................................\n",
      "[CV] .............. alpha=10, score=-0.5216562992021103, total=   0.0s\n",
      "[CV] alpha=10 ........................................................\n",
      "[CV] ............... alpha=10, score=0.1304027827114439, total=   0.0s\n",
      "[CV] alpha=10 ........................................................\n",
      "[CV] .............. alpha=10, score=0.03744467435395227, total=   0.0s\n",
      "[CV] alpha=10 ........................................................\n",
      "[CV] ............. alpha=10, score=0.028954466198187534, total=   0.0s\n",
      "[CV] alpha=10 ........................................................\n",
      "[CV] ............ alpha=10, score=-0.021495379003821036, total=   0.0s\n"
     ]
    },
    {
     "name": "stderr",
     "output_type": "stream",
     "text": [
      "[Parallel(n_jobs=1)]: Done  15 out of  15 | elapsed:    0.5s finished\n"
     ]
    },
    {
     "name": "stdout",
     "output_type": "stream",
     "text": [
      "Best Parameters{'alpha': 0.001}\n",
      "R squared Score on Train: 0.9999930149250204\n",
      "R squared Score on Test: 0.9999919504300675\n",
      "Adjusted R Squared Score on Train: 0.9999858980561732\n",
      "Adjusted R Squared Score on Test: 1.0000155375419628\n",
      "Root Mean Squared error on Train: 2.7716325682354644e-06\n",
      "Root Mean Squared error on Test: 1.7471289112685324e-06\n",
      "Lasso Regression Grid search model: Time Taken-  0.5528256893157959\n"
     ]
    },
    {
     "data": {
      "image/png": "[encoded data removed]",
      "text/plain": [
       "<Figure size 432x288 with 1 Axes>"
      ]
     },
     "metadata": {},
     "output_type": "display_data"
    }
   ],
   "source": [
    "lasso= StatisticalModels.lasso_grid_search(X_train,y_train, X_test,  y_test, parameters = {\"alpha\": [0.001, 0.1, 10]})"
   ]
  },
  {
   "cell_type": "code",
   "execution_count": 371,
   "metadata": {},
   "outputs": [
    {
     "name": "stdout",
     "output_type": "stream",
     "text": [
      "Fitting 3 folds for each of 2 candidates, totalling 6 fits\n"
     ]
    },
    {
     "name": "stderr",
     "output_type": "stream",
     "text": [
      "[Parallel(n_jobs=-1)]: Using backend LokyBackend with 72 concurrent workers.\n",
      "[Parallel(n_jobs=-1)]: Done   2 out of   6 | elapsed:   18.3s remaining:   36.6s\n",
      "[Parallel(n_jobs=-1)]: Done   3 out of   6 | elapsed:   18.3s remaining:   18.3s\n",
      "[Parallel(n_jobs=-1)]: Done   4 out of   6 | elapsed:   18.3s remaining:    9.2s\n",
      "[Parallel(n_jobs=-1)]: Done   6 out of   6 | elapsed:   18.4s remaining:    0.0s\n",
      "[Parallel(n_jobs=-1)]: Done   6 out of   6 | elapsed:   18.4s finished\n"
     ]
    },
    {
     "name": "stdout",
     "output_type": "stream",
     "text": [
      "Best Parameters{'alpha_1': 0.1}\n",
      "R squared Score on Train: 0.957089153371388\n",
      "R squared Score on Test: 0.9298285506259666\n",
      "Adjusted R Squared Score on Train: 0.9133686681271418\n",
      "Adjusted R Squared Score on Test: 1.1354472162335993\n",
      "Root Mean Squared error on Train: 0.01702674636904813\n",
      "Root Mean Squared error on Test: 0.015230449449427282\n",
      "Bayes Ridge Regression Grid search model: Time Taken-  18.98122549057007\n"
     ]
    },
    {
     "data": {
      "image/png": "[encoded data removed]",
      "text/plain": [
       "<Figure size 432x288 with 1 Axes>"
      ]
     },
     "metadata": {},
     "output_type": "display_data"
    }
   ],
   "source": [
    "ridge= StatisticalModels.BayesRidge_grid_search(X_train,y_train, X_test,  y_test,parameters = {\"alpha_1\": [ 0.001, 0.1]})"
   ]
  },
  {
   "cell_type": "code",
   "execution_count": 366,
   "metadata": {},
   "outputs": [
    {
     "name": "stdout",
     "output_type": "stream",
     "text": [
      "feature importance-                                        importance\n",
      "dep_value_growth                     9.999988e-01\n",
      "days_since_last_purchase_vehicle     3.382957e-07\n",
      "current_owned_lexus_ind              1.535489e-07\n",
      "est_current_mileage                  1.516174e-07\n",
      "active_brand                         1.118895e-07\n",
      "past_owned_lexus_ind                 1.063187e-07\n",
      "association_type                     9.219778e-08\n",
      "max_value_vehicles_per_hh            3.969216e-08\n",
      "no_ro_visits_0_6mo                   3.877474e-08\n",
      "total_warranty_pay                   3.228709e-08\n",
      "current_owned_lexus_sedan_ind        3.183846e-08\n",
      "no_ro_visits_12_18mo                 1.366782e-08\n",
      "avg_service_assoc_length             1.249659e-08\n",
      "length_of_residence                  1.241968e-08\n",
      "no_ro_visits                         8.473606e-09\n",
      "current_owned_lexus_new_sedan_ind    5.375467e-09\n",
      "avg_warrpay_recent                   5.373337e-09\n",
      "avg_assoc_length                     4.520978e-09\n",
      "no_ro_visits_36_48mo                 3.669046e-09\n",
      "avg_zip3_vehicle_val                 3.579801e-09\n",
      "avg_cust_pay_24_36mo                 3.086232e-09\n",
      "avg_mileage_permonth_recent_vehicle  3.026888e-09\n",
      "no_vehicles_purchased_last_5yr       2.796896e-09\n",
      "last_serviced_dealer_no              2.761538e-09\n",
      "first_purchase_age                   2.412712e-09\n",
      "avg_cust_pay_48_60mo                 2.130799e-09\n",
      "customer_id                          9.417172e-11\n",
      "no_ro_visits_48_60mo                 6.894382e-11\n",
      "household_id                         5.157116e-11\n",
      "avg_custpay_recent_vehicle           3.763238e-11\n",
      "...                                           ...\n",
      "past_owned_lexus_sedan_ind           0.000000e+00\n",
      "current_owned_avalon_ind             0.000000e+00\n",
      "current_owned_4runner_ind            0.000000e+00\n",
      "current_owned_sienna_ind             0.000000e+00\n",
      "current_owned_highlander_ind         0.000000e+00\n",
      "current_owned_chr_scion_ind          0.000000e+00\n",
      "past_owned_tacoma_ind                0.000000e+00\n",
      "past_owned_es_ind                    0.000000e+00\n",
      "purchased_vehicle_lexus_sedan_ind    0.000000e+00\n",
      "past_owned_rx_ind                    0.000000e+00\n",
      "purchased_vehicle_4wd_ind            0.000000e+00\n",
      "purchased_vehicle_big_engine_ind     0.000000e+00\n",
      "purchased_vehicle_hybrid_ind         0.000000e+00\n",
      "purchased_vehicle_suv_ind            0.000000e+00\n",
      "purchased_vehicle_truck_ind          0.000000e+00\n",
      "purchased_vehicle_scion_ind          0.000000e+00\n",
      "purchased_vehicle_lexus_ind          0.000000e+00\n",
      "purchased_vehicle_toyota_ind         0.000000e+00\n",
      "purchased_vehicle_cpo_ind            0.000000e+00\n",
      "purchased_vehicle_used_ind           0.000000e+00\n",
      "purchased_vehicle_new_ind            0.000000e+00\n",
      "past_owned_avalon_ind                0.000000e+00\n",
      "past_owned_4runner_ind               0.000000e+00\n",
      "past_owned_sienna_ind                0.000000e+00\n",
      "past_owned_highlander_ind            0.000000e+00\n",
      "past_owned_chr_scion_ind             0.000000e+00\n",
      "past_owned_chr_ind                   0.000000e+00\n",
      "past_owned_gs_ind                    0.000000e+00\n",
      "past_owned_ls_ind                    0.000000e+00\n",
      "owned_toyota_pickup_ind              0.000000e+00\n",
      "\n",
      "[378 rows x 1 columns]\n",
      "Random forest regressor : Time Taken-  0.6298937797546387  Score on Traing Set 0.4576736774417971   Score on Test Set  0.7093968009162326   Adjusted R Square Score on Training Set  -0.09488521724014554   Adjusted R Square Score on Test Set 1.560931756370993 MS Error train 0.21519157669800051 MSE Test Error 0.06307433255219315\n"
     ]
    },
    {
     "data": {
      "image/png": "[encoded data removed]",
      "text/plain": [
       "<Figure size 432x288 with 1 Axes>"
      ]
     },
     "metadata": {},
     "output_type": "display_data"
    }
   ],
   "source": [
    "rf= MLModels.mlmodel_randomForest_regressor(X_train,y_train, X_test,  y_test)"
   ]
  },
  {
   "cell_type": "code",
   "execution_count": 379,
   "metadata": {},
   "outputs": [
    {
     "name": "stdout",
     "output_type": "stream",
     "text": [
      "feature importance-                                              importance\n",
      "dep_value_growth                           9.946113e-01\n",
      "customer_id                                2.568690e-03\n",
      "avg_warrpay_recent                         1.861088e-03\n",
      "no_ro_visits                               2.703574e-04\n",
      "current_owned_lexus_new_luv_ind            2.694309e-04\n",
      "length_of_residence                        1.517917e-04\n",
      "i1_education_confidence                    8.320145e-05\n",
      "max_cust_pay_18_24mo                       6.497412e-05\n",
      "last_serviced_dealer_no                    4.767659e-05\n",
      "cruise_enthusiasts_cd                      1.144557e-05\n",
      "avg_assoc_length                           8.838391e-06\n",
      "avg_zip3_vehicle_val                       8.243907e-06\n",
      "total_warranty_pay                         5.959286e-06\n",
      "first_purchase_vehicle_msrp                5.770873e-06\n",
      "first_purchase_big_engine_ind              4.151330e-06\n",
      "no_ro_visits_48_60mo                       3.132050e-06\n",
      "max_value_vehicles_per_hh                  2.736892e-06\n",
      "avg_cust_pay_36_48mo                       2.728743e-06\n",
      "no_repairs_after_warranty_most_recent_veh  2.277374e-06\n",
      "dofu_year2_ind                             2.006317e-06\n",
      "avg_custpay_recent_vehicle                 1.595477e-06\n",
      "interest_in_music_cd                       1.361811e-06\n",
      "used_vehicle_total_purchase_value          1.288909e-06\n",
      "presence_of_children                       1.102597e-06\n",
      "no_ro_visits_12_18mo                       8.044364e-07\n",
      "purchased_vehicle_big_engine_ind           6.665192e-07\n",
      "no_servicing_dealer                        6.089802e-07\n",
      "warranty_high_payment_ind                  5.988354e-07\n",
      "second_last_purchase_age                   5.076205e-07\n",
      "no_of_adlts_per_hh_cd                      5.072508e-07\n",
      "...                                                 ...\n",
      "past_owned_lexus_cpo_luv_ind               0.000000e+00\n",
      "past_owned_lexus_new_sedan_ind             0.000000e+00\n",
      "past_owned_lexus_new_luv_ind               0.000000e+00\n",
      "past_owned_lexus_LUV_ind                   0.000000e+00\n",
      "past_owned_lexus_sedan_ind                 0.000000e+00\n",
      "current_owned_avalon_ind                   0.000000e+00\n",
      "current_owned_4runner_ind                  0.000000e+00\n",
      "past_owned_es_ind                          0.000000e+00\n",
      "past_owned_rx_ind                          0.000000e+00\n",
      "past_owned_gs_ind                          0.000000e+00\n",
      "purchased_vehicle_lexus_ind                0.000000e+00\n",
      "purchased_vehicle_corolla_ind              0.000000e+00\n",
      "purchased_vehicle_camry_ind                0.000000e+00\n",
      "purchased_vehicle_lexus_sedan_ind          0.000000e+00\n",
      "purchased_vehicle_4wd_ind                  0.000000e+00\n",
      "purchased_vehicle_hybrid_ind               0.000000e+00\n",
      "purchased_vehicle_suv_ind                  0.000000e+00\n",
      "purchased_vehicle_truck_ind                0.000000e+00\n",
      "purchased_vehicle_scion_ind                0.000000e+00\n",
      "purchased_vehicle_toyota_ind               0.000000e+00\n",
      "past_owned_chr_ind                         0.000000e+00\n",
      "purchased_vehicle_cpo_ind                  0.000000e+00\n",
      "purchased_vehicle_used_ind                 0.000000e+00\n",
      "purchased_vehicle_new_ind                  0.000000e+00\n",
      "past_owned_avalon_ind                      0.000000e+00\n",
      "past_owned_4runner_ind                     0.000000e+00\n",
      "past_owned_sienna_ind                      0.000000e+00\n",
      "past_owned_highlander_ind                  0.000000e+00\n",
      "past_owned_chr_scion_ind                   0.000000e+00\n",
      "owned_toyota_pickup_ind                    0.000000e+00\n",
      "\n",
      "[378 rows x 1 columns]\n",
      "Decision tree regressor :  Time Taken-  0.029395580291748047   Score on Traing Set 0.9999999201927444   Score on Test Set  0.9747497636525525   Adjusted R Square Score on Training Set  0.9999998388796916   Adjusted R Square Score on Test Set 1.0487388282985615\n"
     ]
    },
    {
     "data": {
      "image/png": "[encoded data removed]",
      "text/plain": [
       "<Figure size 432x288 with 1 Axes>"
      ]
     },
     "metadata": {},
     "output_type": "display_data"
    }
   ],
   "source": [
    "dt= mlmodel_decisionTree_regressor(X_train,y_train, X_test,  y_test)"
   ]
  },
  {
   "cell_type": "code",
   "execution_count": 381,
   "metadata": {},
   "outputs": [
    {
     "name": "stdout",
     "output_type": "stream",
     "text": [
      "feature importance-                                            importance\n",
      "dep_value_growth                             0.910671\n",
      "avg_custpay_recent_vehicle                   0.016209\n",
      "creditcard_cd                                0.016030\n",
      "pma_lexus_dealership_cd                      0.014144\n",
      "total_warranty_pay                           0.010011\n",
      "customer_language_english_ind                0.009865\n",
      "household_id                                 0.006905\n",
      "owned_vehicle_my_1991_00_ind                 0.004927\n",
      "purchased_vehicle_cpo_ind                    0.003247\n",
      "avg_service_assoc_length                     0.002819\n",
      "length_of_residence                          0.002084\n",
      "no_repairs_under_warranty_most_recent_veh    0.001309\n",
      "past_owned_es_ind                            0.000960\n",
      "purchased_vehicle_lexus_sedan_ind            0.000818\n",
      "cruise_enthusiasts_cd                        0.000000\n",
      "photography_cd                               0.000000\n",
      "home_business_ind                            0.000000\n",
      "aged_parent_in_hh                            0.000000\n",
      "dwelling_type                                0.000000\n",
      "interest_in_golf_cd                          0.000000\n",
      "tennis_cd                                    0.000000\n",
      "interest_in_travel_cd                        0.000000\n",
      "music_rock_cd                                0.000000\n",
      "interest_in_cultural_arts_cd                 0.000000\n",
      "music_oldies_cd                              0.000000\n",
      "music_christian_cd                           0.000000\n",
      "music_country_cd                             0.000000\n",
      "interest_in_skiing_cd                        0.000000\n",
      "i1_business_owner_flg                        0.000000\n",
      "interest_in_music_cd                         0.000000\n",
      "...                                               ...\n",
      "current_owned_highlander_ind                 0.000000\n",
      "current_owned_chr_scion_ind                  0.000000\n",
      "current_owned_chr_ind                        0.000000\n",
      "current_owned_gs_ind                         0.000000\n",
      "current_owned_ls_ind                         0.000000\n",
      "current_owned_rx_ind                         0.000000\n",
      "past_owned_camry_ind                         0.000000\n",
      "past_owned_rav4_ind                          0.000000\n",
      "purchased_vehicle_hybrid_ind                 0.000000\n",
      "past_owned_prius_ind                         0.000000\n",
      "purchased_vehicle_suv_ind                    0.000000\n",
      "purchased_vehicle_truck_ind                  0.000000\n",
      "purchased_vehicle_scion_ind                  0.000000\n",
      "purchased_vehicle_lexus_ind                  0.000000\n",
      "purchased_vehicle_toyota_ind                 0.000000\n",
      "purchased_vehicle_used_ind                   0.000000\n",
      "purchased_vehicle_new_ind                    0.000000\n",
      "past_owned_avalon_ind                        0.000000\n",
      "past_owned_4runner_ind                       0.000000\n",
      "past_owned_sienna_ind                        0.000000\n",
      "past_owned_highlander_ind                    0.000000\n",
      "past_owned_chr_scion_ind                     0.000000\n",
      "past_owned_chr_ind                           0.000000\n",
      "past_owned_gs_ind                            0.000000\n",
      "past_owned_ls_ind                            0.000000\n",
      "past_owned_rx_ind                            0.000000\n",
      "past_owned_is_ind                            0.000000\n",
      "past_owned_tacoma_ind                        0.000000\n",
      "past_owned_tundra_ind                        0.000000\n",
      "owned_toyota_pickup_ind                      0.000000\n",
      "\n",
      "[378 rows x 1 columns]\n",
      "Adaboost regressor:  Time Taken-  0.16850996017456055  R Squred Score on Traing Set 0.9909436527319634  R Squred Score on Test Set  0.9757970465929375 Adjusted R Square Score on Training Set  0.9817164309871713   Adjusted R Square Score on Test Set 1.0467173286694462 Mean Squred Error on train 0.0035935000140515346 Mean Squred Error on test 0.005253160105447608\n"
     ]
    },
    {
     "data": {
      "image/png": "[encoded data removed]",
      "text/plain": [
       "<Figure size 432x288 with 1 Axes>"
      ]
     },
     "metadata": {},
     "output_type": "display_data"
    }
   ],
   "source": [
    "adaboost= MLModels.mlmodel_adaboostTree_regressor(X_train,y_train, X_test,  y_test)"
   ]
  },
  {
   "cell_type": "markdown",
   "metadata": {},
   "source": [
    "### Finding the p value"
   ]
  },
  {
   "cell_type": "code",
   "execution_count": null,
   "metadata": {},
   "outputs": [],
   "source": [
    "def ols(X,y):\n",
    "    X2 = sm.add_constant(X)\n",
    "    est = sm.OLS(y, X2)\n",
    "    est2 = est.fit()\n",
    "    print(est2.summary())\n",
    "    return est2"
   ]
  },
  {
   "cell_type": "code",
   "execution_count": 60,
   "metadata": {
    "scrolled": false
   },
   "outputs": [
    {
     "name": "stdout",
     "output_type": "stream",
     "text": [
      "                            OLS Regression Results                            \n",
      "==============================================================================\n",
      "Dep. Variable:       dep_value_growth   R-squared:                       0.269\n",
      "Model:                            OLS   Adj. R-squared:                  0.269\n",
      "Method:                 Least Squares   F-statistic:                     2374.\n",
      "Date:                Fri, 23 Nov 2018   Prob (F-statistic):               0.00\n",
      "Time:                        07:45:23   Log-Likelihood:            -1.4257e+06\n",
      "No. Observations:             1129455   AIC:                         2.852e+06\n",
      "Df Residuals:                 1129279   BIC:                         2.854e+06\n",
      "Df Model:                         175                                         \n",
      "Covariance Type:            nonrobust                                         \n",
      "=============================================================================================================\n",
      "                                                coef    std err          t      P>|t|      [0.025      0.975]\n",
      "-------------------------------------------------------------------------------------------------------------\n",
      "const                                        -0.2797      0.012    -22.877      0.000      -0.304      -0.256\n",
      "no_owned_vehicle                             -0.1773      0.005    -34.412      0.000      -0.187      -0.167\n",
      "no_new_purchase_vehicle                      -0.0321      0.003    -11.059      0.000      -0.038      -0.026\n",
      "no_sales_dealer_assoc                         0.0050      0.001      4.577      0.000       0.003       0.007\n",
      "owned_lexus_sedan_ind                        -0.0024      0.002     -0.946      0.344      -0.007       0.003\n",
      "owned_lexus_LUV_ind                           0.0028      0.000      6.939      0.000       0.002       0.004\n",
      "owned_lexus_new_luv_ind                      -0.0010      0.004     -0.225      0.822      -0.010       0.008\n",
      "owned_lexus_cpo_luv_ind                       0.0139      0.003      4.447      0.000       0.008       0.020\n",
      "owned_lexus_new_sedan_ind                    -0.0052      0.003     -1.803      0.071      -0.011       0.000\n",
      "owned_lexus_cpo_sedan_ind                    -0.0026      0.006     -0.433      0.665      -0.014       0.009\n",
      "owned_hybrid_ind                              0.0141      0.004      3.571      0.000       0.006       0.022\n",
      "owned_big_engine_vehicle_ind                 -0.0042      0.004     -1.148      0.251      -0.011       0.003\n",
      "owned_4wd_vehicle_ind                         0.0053      0.003      1.999      0.046       0.000       0.010\n",
      "multiple_vehicle_type_ind                    -0.0015      0.001     -1.509      0.131      -0.003       0.000\n",
      "owned_lexus_sedan_no                          0.0185      0.003      6.716      0.000       0.013       0.024\n",
      "owned_lexus_LUV_no                           -0.0185      0.004     -4.635      0.000      -0.026      -0.011\n",
      "owned_hybrid_no                              -0.0072      0.004     -1.704      0.088      -0.016       0.001\n",
      "owned_is250_ind                              -0.0062      0.011     -0.569      0.569      -0.028       0.015\n",
      "owned_is350_ind                              -0.0346      0.005     -6.657      0.000      -0.045      -0.024\n",
      "owned_is_ind                                 -0.0204      0.004     -4.628      0.000      -0.029      -0.012\n",
      "owned_es_ind                               2.081e-05      0.004      0.005      0.996      -0.009       0.009\n",
      "owned_rx_ind                                  0.0129      0.003      4.692      0.000       0.007       0.018\n",
      "owned_ls_ind                                 -0.0067      0.004     -1.692      0.091      -0.015       0.001\n",
      "owned_gs_ind                                  0.0094      0.004      2.474      0.013       0.002       0.017\n",
      "owned_hs250h_ind                          -4.567e-05      0.005     -0.009      0.993      -0.010       0.010\n",
      "owned_ct200h_ind                              0.0146      0.008      1.883      0.060      -0.001       0.030\n",
      "owned_white_vehicle_ind                       0.0271      0.003      9.353      0.000       0.021       0.033\n",
      "owned_black_vehicle_ind                      -0.0123      0.002     -6.286      0.000      -0.016      -0.008\n",
      "owned_silver_gray_vehicle_ind                -0.0228      0.003     -8.194      0.000      -0.028      -0.017\n",
      "owned_gold_brown_orange_vehicle_ind           0.0129      0.003      5.037      0.000       0.008       0.018\n",
      "owned_yellow_vehicle_ind                     -0.0004      0.002     -0.215      0.830      -0.004       0.003\n",
      "owned_green_vehicle_ind                       0.0199      0.003      7.077      0.000       0.014       0.025\n",
      "owned_aqua_vehicle_ind                       -0.0081      0.001     -8.099      0.000      -0.010      -0.006\n",
      "owned_blue_vehicle_ind                       -0.0079      0.001     -8.318      0.000      -0.010      -0.006\n",
      "owned_purple_vehicle_ind                     -0.0070      0.002     -4.186      0.000      -0.010      -0.004\n",
      "owned_brown_vehicle_ind                      -0.0203      0.001    -13.711      0.000      -0.023      -0.017\n",
      "owned_gold_vehicle_ind                       -0.0193      0.001    -16.193      0.000      -0.022      -0.017\n",
      "owned_red_vehicle_ind                        -0.0154      0.002     -7.297      0.000      -0.019      -0.011\n",
      "owned_orange_vehicle_ind                      0.0209      0.009      2.262      0.024       0.003       0.039\n",
      "owned_other_color_vehicle_ind                -0.1248      0.006    -22.032      0.000      -0.136      -0.114\n",
      "owned_gray_vehicle_ind                       -0.1089      0.005    -21.851      0.000      -0.119      -0.099\n",
      "owned_vehicle_my_1981_90_ind              -1.334e-14   8.76e-15     -1.523      0.128   -3.05e-14    3.82e-15\n",
      "owned_vehicle_my_1991_00_ind                  0.8256      0.002    455.750      0.000       0.822       0.829\n",
      "owned_vehicle_my_2001_10_ind                  0.0075      0.001      5.441      0.000       0.005       0.010\n",
      "owned_vehicle_my_2011_20_ind               4.905e-15   4.42e-15      1.110      0.267   -3.76e-15    1.36e-14\n",
      "purchased_vehicle_last_2years_ind            -0.0334      0.002    -20.498      0.000      -0.037      -0.030\n",
      "no_vehicles_purchased_last_5yr                0.0128      0.001     10.225      0.000       0.010       0.015\n",
      "purchased_lexus_sedan_last_2years_ind         0.0031      0.005      0.607      0.544      -0.007       0.013\n",
      "purchased_lexus_sedan_last_3years_ind      4.169e-15   3.28e-15      1.270      0.204   -2.27e-15    1.06e-14\n",
      "purchased_lexus_LUV_last_2years_ind          -0.0334      0.002    -20.498      0.000      -0.037      -0.030\n",
      "purchased_lexus_LUV_last_3years_ind           0.0128      0.001     10.225      0.000       0.010       0.015\n",
      "purchased_lexus_last_3years_ind              -0.0042      0.003     -1.497      0.134      -0.010       0.001\n",
      "purchased_is_last_3years_ind                 -0.0041      0.003     -1.508      0.131      -0.009       0.001\n",
      "current_owned_lexus_sedan_ind                 0.0566      0.007      8.304      0.000       0.043       0.070\n",
      "current_owned_lexus_LUV_ind                   0.0272      0.007      3.926      0.000       0.014       0.041\n",
      "current_owned_lexus_new_luv_ind            5.141e-15    3.5e-15      1.467      0.142   -1.73e-15     1.2e-14\n",
      "current_owned_lexus_new_sedan_ind          4.701e-15   3.28e-15      1.431      0.152   -1.74e-15    1.11e-14\n",
      "current_owned_lexus_cpo_luv_ind            1.899e-14   1.42e-14      1.340      0.180   -8.78e-15    4.68e-14\n",
      "current_owned_lexus_cpo_sedan_ind            -0.0021      0.005     -0.392      0.695      -0.012       0.008\n",
      "current_owned_lexus_ind                       0.0113      0.001      8.984      0.000       0.009       0.014\n",
      "current_owned_is_ind                       4.425e-15   3.64e-15      1.217      0.224    -2.7e-15    1.16e-14\n",
      "current_owned_es_ind                          0.0014      0.002      0.780      0.436      -0.002       0.005\n",
      "current_owned_rx_ind                          0.0399      0.001     27.575      0.000       0.037       0.043\n",
      "current_owned_ls_ind                         -0.0154      0.001    -10.691      0.000      -0.018      -0.013\n",
      "current_owned_gs_ind                         -0.0190      0.001    -13.653      0.000      -0.022      -0.016\n",
      "past_owned_lexus_sedan_ind                   -0.0114      0.002     -7.327      0.000      -0.014      -0.008\n",
      "past_owned_lexus_LUV_ind                      0.0024      0.004      0.543      0.587      -0.006       0.011\n",
      "past_owned_lexus_new_luv_ind              -4.954e-05      0.004     -0.011      0.991      -0.009       0.008\n",
      "past_owned_lexus_new_sedan_ind               -0.0031      0.004     -0.725      0.468      -0.011       0.005\n",
      "past_owned_lexus_cpo_luv_ind                 -0.0165      0.004     -3.715      0.000      -0.025      -0.008\n",
      "past_owned_lexus_cpo_sedan_ind               -0.0004      0.003     -0.146      0.884      -0.006       0.006\n",
      "past_owned_lexus_ind                          0.0009      0.001      1.347      0.178      -0.000       0.002\n",
      "past_owned_is_ind                            -0.0098      0.001     -7.968      0.000      -0.012      -0.007\n",
      "past_owned_es_ind                             0.0421      0.001     36.375      0.000       0.040       0.044\n",
      "past_owned_rx_ind                             0.0289      0.001     25.932      0.000       0.027       0.031\n",
      "past_owned_ls_ind                             0.0139      0.001     12.721      0.000       0.012       0.016\n",
      "past_owned_gs_ind                             -4e-15   2.96e-15     -1.350      0.177   -9.81e-15    1.81e-15\n",
      "purchased_vehicle_new_ind                 -9.286e-15   6.28e-15     -1.478      0.139   -2.16e-14    3.03e-15\n",
      "purchased_vehicle_used_ind                 3.423e-15    3.1e-15      1.104      0.270   -2.65e-15     9.5e-15\n",
      "purchased_vehicle_cpo_ind                  3.205e-15    3.7e-15      0.867      0.386   -4.04e-15    1.05e-14\n",
      "purchased_vehicle_hybrid_ind              -3.507e-15   3.13e-15     -1.120      0.263   -9.65e-15    2.63e-15\n",
      "purchased_vehicle_big_engine_ind             -0.0085      0.001     -7.468      0.000      -0.011      -0.006\n",
      "purchased_vehicle_4wd_ind                    -0.0085      0.001     -7.468      0.000      -0.011      -0.006\n",
      "purchased_vehicle_lexus_sedan_ind            -0.0200      0.004     -4.806      0.000      -0.028      -0.012\n",
      "purchased_vehicle_lexus_LUV_ind               0.0463      0.003     13.891      0.000       0.040       0.053\n",
      "first_purchase_lexus_sedan_ind                0.0662      0.003     19.483      0.000       0.060       0.073\n",
      "first_purchase_lexus_LUV_ind                 -0.0253      0.002    -10.352      0.000      -0.030      -0.021\n",
      "first_purchase_hybrid_ind                     0.0103      0.001     19.687      0.000       0.009       0.011\n",
      "first_purchase_big_engine_ind                 0.2967      0.003     86.752      0.000       0.290       0.303\n",
      "cpo_vehicle_total_purchase_value              0.0204      0.002     11.582      0.000       0.017       0.024\n",
      "used_vehicle_total_purchase_value            -0.0222      0.004     -5.926      0.000      -0.030      -0.015\n",
      "no_leased_vehicle                            -0.1188      0.007    -16.076      0.000      -0.133      -0.104\n",
      "last_sales_dealer_region                  -1.424e-14   9.38e-15     -1.518      0.129   -3.26e-14    4.15e-15\n",
      "dofu_year1_ind                             2.142e-15   2.84e-15      0.755      0.450   -3.42e-15     7.7e-15\n",
      "dofu_year2_ind                             2.674e-15    2.2e-15      1.216      0.224   -1.64e-15    6.99e-15\n",
      "dofu_year3_ind                                0.0171      0.004      4.466      0.000       0.010       0.025\n",
      "dofu_year4_ind                                0.0528      0.005     11.166      0.000       0.044       0.062\n",
      "dofu_year5above_ind                           0.0998      0.004     23.337      0.000       0.091       0.108\n",
      "tc_active_ind                                 0.0046      0.002      2.579      0.010       0.001       0.008\n",
      "owned_luxury_no                            1.075e-14   6.87e-15      1.564      0.118   -2.72e-15    2.42e-14\n",
      "past_owned_toyota_4wd_ind                    -0.0358      0.024     -1.486      0.137      -0.083       0.011\n",
      "driver_ind                                   -0.1255      0.024     -5.259      0.000      -0.172      -0.079\n",
      "owner_ind                                  1.142e-14   7.51e-15      1.522      0.128   -3.29e-15    2.61e-14\n",
      "i1_education                              -1.241e-14   7.72e-15     -1.607      0.108   -2.75e-14    2.72e-15\n",
      "no_of_chldrn_cd                              -0.0810      0.011     -7.568      0.000      -0.102      -0.060\n",
      "sales_survey_ind                             -0.0742      0.011     -6.882      0.000      -0.095      -0.053\n",
      "service_survey_ind                            0.4195      0.373      1.124      0.261      -0.312       1.151\n",
      "has_uss                                      -0.0329      0.207     -0.159      0.874      -0.440       0.374\n",
      "multiple_case_type_ind                       -0.6031      0.373     -1.616      0.106      -1.335       0.128\n",
      "has_cec                                      -0.0161      0.002     -8.696      0.000      -0.020      -0.012\n",
      "lhr_sweepstakes_1_permission_ind           9.002e-15   6.94e-15      1.297      0.195    -4.6e-15    2.26e-14\n",
      "current_handraiser                            0.1165      0.024      4.811      0.000       0.069       0.164\n",
      "ever_handraiser_ind                           0.0387      0.024      1.611      0.107      -0.008       0.086\n",
      "has_emd                                      -0.0951      0.006    -16.313      0.000      -0.106      -0.084\n",
      "brochure_requested_ind                       -0.0056      0.002     -2.323      0.020      -0.010      -0.001\n",
      "no_ro_visits_18_24mo                         -0.0008      0.002     -0.360      0.719      -0.005       0.004\n",
      "no_ro_visits_12_18mo                         -0.0068      0.003     -2.648      0.008      -0.012      -0.002\n",
      "no_ro_visits_6_12mo                          -0.0148      0.002     -7.275      0.000      -0.019      -0.011\n",
      "no_ro_visits_0_6mo                           -0.0453      0.003    -15.688      0.000      -0.051      -0.040\n",
      "no_servicing_dealer                          -0.1248      0.006    -22.032      0.000      -0.136      -0.114\n",
      "dealer_loyalist                              -0.0145      0.003     -4.841      0.000      -0.020      -0.009\n",
      "noros_high_cust_pay_18_24mo               -1.056e-15   1.48e-15     -0.714      0.475   -3.95e-15    1.84e-15\n",
      "noros_high_cust_pay_12_18mo                  -0.0101      0.002     -4.620      0.000      -0.014      -0.006\n",
      "noros_high_cust_pay_6_12mo                   -0.0140      0.003     -5.162      0.000      -0.019      -0.009\n",
      "noros_high_cust_pay_0_6mo                    -0.1496      0.124     -1.202      0.229      -0.394       0.094\n",
      "noros_high_ro_time_18_24mo                    0.0188      0.069      0.272      0.786      -0.117       0.155\n",
      "noros_high_ro_time_12_18mo                   -0.0013      0.003     -0.406      0.685      -0.008       0.005\n",
      "noros_high_ro_time_6_12mo                     0.0083      0.003      2.850      0.004       0.003       0.014\n",
      "noros_high_ro_time_0_6mo                      0.0216      0.003      8.225      0.000       0.016       0.027\n",
      "no_ro_vehicle                                 0.0238      0.003      8.812      0.000       0.019       0.029\n",
      "no_ro_visit_during_tc                         0.0046      0.004      1.292      0.196      -0.002       0.012\n",
      "last_serviced_dealer_region                  -0.1548      0.008    -18.303      0.000      -0.171      -0.138\n",
      "ever_customer_payment_ind                     0.0229      0.003      6.580      0.000       0.016       0.030\n",
      "ever_warranty_payment_ind                  6.975e-15   4.88e-15      1.430      0.153   -2.59e-15    1.65e-14\n",
      "ever_service_ind                              0.0043      0.003      1.508      0.132      -0.001       0.010\n",
      "ever_service_hybrid_ind                      -0.0152      0.003     -5.412      0.000      -0.021      -0.010\n",
      "ever_service_lexus_sedan_ind                 -0.1678      0.125     -1.348      0.178      -0.412       0.076\n",
      "ever_service_lexus_LUV_ind                   -0.0223      0.069     -0.322      0.748      -0.158       0.114\n",
      "customer_high_payment_ind                  2.276e-15   1.48e-15      1.533      0.125   -6.33e-16    5.19e-15\n",
      "warranty_high_payment_ind                     0.0533      0.008      6.612      0.000       0.037       0.069\n",
      "high_service_ind                              0.0293      0.008      3.865      0.000       0.014       0.044\n",
      "high_ro_time_ind                              0.0813      0.010      8.280      0.000       0.062       0.101\n",
      "current_vehicle_serviced_ind                  0.0217      0.008      2.877      0.004       0.007       0.037\n",
      "current_vehicle_customer_full_payment_ind     0.0938      0.010      9.576      0.000       0.075       0.113\n",
      "current_vehicle_high_service_ind              0.0678      0.002     32.020      0.000       0.064       0.072\n",
      "current_vehicle_high_ro_time_ind             -0.2042      0.010    -19.728      0.000      -0.225      -0.184\n",
      "has_nsh                                      -0.0015      0.005     -0.311      0.756      -0.011       0.008\n",
      "pma_lexus_dealership_region                   0.0114      0.005      2.300      0.021       0.002       0.021\n",
      "customer_language_english_ind                 0.0004      0.004      0.113      0.910      -0.007       0.008\n",
      "customer_language_spanish_ind             -8.034e-15   5.66e-15     -1.420      0.155   -1.91e-14    3.05e-15\n",
      "customer_type                               9.71e-15   6.85e-15      1.417      0.156   -3.72e-15    2.31e-14\n",
      "active_brand                                 -0.0077      0.003     -2.914      0.004      -0.013      -0.003\n",
      "association_type                          -7.998e-17    4.7e-17     -1.701      0.089   -1.72e-16    1.22e-17\n",
      "last_sales_dealer_markettype               5.471e-15   3.86e-15      1.418      0.156   -2.09e-15     1.3e-14\n",
      "marital_status                            -3.451e-15   2.45e-15     -1.411      0.158   -8.25e-15    1.34e-15\n",
      "marital_status_confidence                 -1.076e-14    7.6e-15     -1.416      0.157   -2.56e-14    4.13e-15\n",
      "i1_education_confidence                    2.392e-15   1.68e-15      1.424      0.154   -9.01e-16    5.68e-15\n",
      "home_ownership                            -3.702e-15   2.62e-15     -1.412      0.158   -8.84e-15    1.44e-15\n",
      "presence_of_children                         -0.0123      0.002     -5.016      0.000      -0.017      -0.007\n",
      "creditcard_cd                                -0.0103      0.002     -4.231      0.000      -0.015      -0.006\n",
      "gndr_cd                                      -0.0024      0.003     -0.931      0.352      -0.008       0.003\n",
      "interest_in_fitness_cd                    -1.149e-16   7.47e-17     -1.538      0.124   -2.61e-16    3.15e-17\n",
      "interest_in_outdoors_cd                       0.0288      0.003     10.206      0.000       0.023       0.034\n",
      "interest_in_sports_cd                     -1.498e-17    9.6e-18     -1.561      0.119   -3.38e-17    3.83e-18\n",
      "interest_in_golf_cd                          -0.0124      0.002     -5.798      0.000      -0.017      -0.008\n",
      "tennis_cd                                  -4.28e-18   2.88e-18     -1.485      0.137   -9.93e-18    1.37e-18\n",
      "interest_in_skiing_cd                      4.426e-18   1.41e-18      3.141      0.002    1.66e-18    7.19e-18\n",
      "interest_in_cultural_arts_cd                 -0.0069      0.002     -3.538      0.000      -0.011      -0.003\n",
      "cruise_enthusiasts_cd                         0.0075      0.002      3.529      0.000       0.003       0.012\n",
      "interest_in_music_cd                          0.0148      0.002      6.501      0.000       0.010       0.019\n",
      "musical_class_opera_big_bnd_cd                0.0090      0.002      4.458      0.000       0.005       0.013\n",
      "music_country_cd                             -0.0406      0.003    -13.232      0.000      -0.047      -0.035\n",
      "music_christian_cd                         5.354e-18   5.04e-19     10.629      0.000    4.37e-18    6.34e-18\n",
      "music_oldies_cd                               0.0181      0.005      3.535      0.000       0.008       0.028\n",
      "music_rock_cd                             -2.767e-18    8.3e-19     -3.332      0.001   -4.39e-18   -1.14e-18\n",
      "photography_cd                               -0.0156      0.003     -4.935      0.000      -0.022      -0.009\n",
      "interest_in_travel_cd                        -0.0111      0.004     -3.143      0.002      -0.018      -0.004\n",
      "dwelling_type                                -0.0559      0.003    -20.976      0.000      -0.061      -0.051\n",
      "aged_parent_in_hh                             0.6104      0.373      1.635      0.102      -0.121       1.342\n",
      "home_business_ind                            -0.0161      0.002     -8.696      0.000      -0.020      -0.012\n",
      "i1_business_owner_flg                              0          0        nan        nan           0           0\n",
      "presence_of_automobile_cd                     0.0084      0.004      2.250      0.024       0.001       0.016\n",
      "healthy_living_cd                            -0.0059      0.003     -2.196      0.028      -0.011      -0.001\n",
      "investors_cd                                 -0.0039      0.006     -0.673      0.501      -0.015       0.007\n",
      "invest_in_mutual_fund_annts_cd               -0.0292      0.003    -10.008      0.000      -0.035      -0.023\n",
      "generation_group                             -0.3175      0.249     -1.275      0.202      -0.805       0.170\n",
      "last_serviced_dealer_markettype              -0.0035      0.138     -0.025      0.980      -0.275       0.268\n",
      "pma_toy_scion_dealership_markettype           0.0037      0.001      4.003      0.000       0.002       0.005\n",
      "pma_lexus_dealership_markettype              -0.0086      0.002     -5.384      0.000      -0.012      -0.005\n",
      "deceased_ind                                  0.1056      0.007     15.121      0.000       0.092       0.119\n",
      "avg_assoc_length                              0.0470      0.002     29.993      0.000       0.044       0.050\n",
      "days_since_last_purchase_vehicle              0.0663      0.003     26.491      0.000       0.061       0.071\n",
      "days_since_last_sold_vehicle                  0.0274      0.001     23.863      0.000       0.025       0.030\n",
      "avg_zip3_vehicle_val                         -0.0033      0.001     -2.457      0.014      -0.006      -0.001\n",
      "total_vehicle_purchase_value                 -0.0137      0.002     -7.487      0.000      -0.017      -0.010\n",
      "first_purchase_vehicle_msrp                  -0.0273      0.001    -22.992      0.000      -0.030      -0.025\n",
      "last_purchase_vehicle_msrp                   -0.0114      0.001     -9.370      0.000      -0.014      -0.009\n",
      "first_purchase_age                           -0.0461      0.002    -20.783      0.000      -0.050      -0.042\n",
      "days_since_first_purchase_vehicle            -0.0641      0.002    -29.475      0.000      -0.068      -0.060\n",
      "avg_no_vehicles_per_hh                       -0.0003      0.001     -0.231      0.817      -0.003       0.002\n",
      "max_value_vehicles_per_hh                     0.0004      0.001      0.321      0.749      -0.002       0.003\n",
      "no_of_adlts_per_hh_cd                        -0.0082      0.001     -5.592      0.000      -0.011      -0.005\n",
      "i1_occupation_grp_val                         0.0136      0.002      6.517      0.000       0.010       0.018\n",
      "length_of_residence                           0.0134      0.001      9.157      0.000       0.011       0.016\n",
      "avg_custpay_recent_vehicle                    0.0057      0.002      3.372      0.001       0.002       0.009\n",
      "avg_custpay                                  -0.0057      0.001     -4.173      0.000      -0.008      -0.003\n",
      "avg_warrpay_recent                           -0.0070      0.001     -4.862      0.000      -0.010      -0.004\n",
      "avg_warrpay                                  -0.0028      0.001     -2.085      0.037      -0.005      -0.000\n",
      "last_reported_mileage_recent_vehicle          0.0254      0.001     17.705      0.000       0.023       0.028\n",
      "no_days_since_lastro_recent                  -0.0116      0.002     -6.317      0.000      -0.015      -0.008\n",
      "no_ro_visits_48_60mo                          0.0093      0.001      8.128      0.000       0.007       0.012\n",
      "avg_cust_pay_48_60mo                         -0.0043      0.001     -3.081      0.002      -0.007      -0.002\n",
      "no_ro_visits_36_48mo                          0.0127      0.001     10.275      0.000       0.010       0.015\n",
      "avg_cust_pay_36_48mo                         -0.0028      0.001     -1.983      0.047      -0.005   -3.26e-05\n",
      "no_ro_visits_24_36mo                          0.0111      0.001      8.516      0.000       0.009       0.014\n",
      "avg_cust_pay_24_36mo                          0.0028      0.001      2.045      0.041       0.000       0.006\n",
      "max_cust_pay_18_24mo                          0.0051      0.001      3.533      0.000       0.002       0.008\n",
      "avg_ro_time_18_24mo                           0.0101      0.001      6.988      0.000       0.007       0.013\n",
      "max_cust_pay_12_18mo                          0.0103      0.002      6.819      0.000       0.007       0.013\n",
      "max_cust_pay_6_12mo                           0.0113      0.002      7.479      0.000       0.008       0.014\n",
      "max_cust_pay_0_6mo                            0.0168      0.002     11.150      0.000       0.014       0.020\n",
      "avg_mileage_permonth_recent_vehicle          -0.0033      0.001     -3.292      0.001      -0.005      -0.001\n",
      "no_repairs_under_warranty_most_recent_veh     0.0004      0.001      0.348      0.728      -0.002       0.003\n",
      "avg_no_repairs_after_warranty                 0.0035      0.002      2.079      0.038       0.000       0.007\n",
      "no_ro_visits                                 -0.0056      0.002     -2.310      0.021      -0.010      -0.001\n",
      "avg_service_assoc_length                      0.0122      0.001      9.030      0.000       0.010       0.015\n",
      "last_serviced_dealer_no                      -0.0011      0.001     -1.219      0.223      -0.003       0.001\n",
      "pma_toy_scion_dealership_region              -0.0078      0.002     -3.682      0.000      -0.012      -0.004\n",
      "pma_lexus_dealership_cd                      -0.0254      0.002    -10.802      0.000      -0.030      -0.021\n",
      "==============================================================================\n",
      "Omnibus:                   129311.080   Durbin-Watson:                   1.927\n",
      "Prob(Omnibus):                  0.000   Jarque-Bera (JB):           178138.577\n",
      "Skew:                           0.946   Prob(JB):                         0.00\n",
      "Kurtosis:                       3.454   Cond. No.                     1.16e+16\n",
      "==============================================================================\n",
      "\n",
      "Warnings:\n",
      "[1] Standard Errors assume that the covariance matrix of the errors is correctly specified.\n",
      "[2] The smallest eigenvalue is 1.14e-24. This might indicate that there are\n",
      "strong multicollinearity problems or that the design matrix is singular.\n"
     ]
    }
   ],
   "source": [
    "ols(X,y)"
   ]
  },
  {
   "cell_type": "code",
   "execution_count": 73,
   "metadata": {},
   "outputs": [
    {
     "name": "stdout",
     "output_type": "stream",
     "text": [
      "Fitting 5 folds for each of 12 candidates, totalling 60 fits\n",
      "[CV] alpha=0.1, fit_intercept=True, normalize=True ...................\n"
     ]
    },
    {
     "name": "stderr",
     "output_type": "stream",
     "text": [
      "[Parallel(n_jobs=1)]: Using backend SequentialBackend with 1 concurrent workers.\n"
     ]
    },
    {
     "name": "stdout",
     "output_type": "stream",
     "text": [
      "[CV]  alpha=0.1, fit_intercept=True, normalize=True, score=0.26793204768213374, total=   3.7s\n",
      "[CV] alpha=0.1, fit_intercept=True, normalize=True ...................\n"
     ]
    },
    {
     "name": "stderr",
     "output_type": "stream",
     "text": [
      "[Parallel(n_jobs=1)]: Done   1 out of   1 | elapsed:    4.4s remaining:    0.0s\n"
     ]
    },
    {
     "name": "stdout",
     "output_type": "stream",
     "text": [
      "[CV]  alpha=0.1, fit_intercept=True, normalize=True, score=0.26376156743778967, total=   3.1s\n",
      "[CV] alpha=0.1, fit_intercept=True, normalize=True ...................\n"
     ]
    },
    {
     "name": "stderr",
     "output_type": "stream",
     "text": [
      "[Parallel(n_jobs=1)]: Done   2 out of   2 | elapsed:    8.2s remaining:    0.0s\n"
     ]
    },
    {
     "name": "stdout",
     "output_type": "stream",
     "text": [
      "[CV]  alpha=0.1, fit_intercept=True, normalize=True, score=0.2651127779678737, total=   3.1s\n",
      "[CV] alpha=0.1, fit_intercept=True, normalize=True ...................\n"
     ]
    },
    {
     "name": "stderr",
     "output_type": "stream",
     "text": [
      "[Parallel(n_jobs=1)]: Done   3 out of   3 | elapsed:   12.1s remaining:    0.0s\n"
     ]
    },
    {
     "name": "stdout",
     "output_type": "stream",
     "text": [
      "[CV]  alpha=0.1, fit_intercept=True, normalize=True, score=0.2669258290034128, total=   3.3s\n",
      "[CV] alpha=0.1, fit_intercept=True, normalize=True ...................\n"
     ]
    },
    {
     "name": "stderr",
     "output_type": "stream",
     "text": [
      "[Parallel(n_jobs=1)]: Done   4 out of   4 | elapsed:   16.2s remaining:    0.0s\n"
     ]
    },
    {
     "name": "stdout",
     "output_type": "stream",
     "text": [
      "[CV]  alpha=0.1, fit_intercept=True, normalize=True, score=0.2692020377457185, total=   3.5s\n",
      "[CV] alpha=0.1, fit_intercept=True, normalize=False ..................\n"
     ]
    },
    {
     "name": "stderr",
     "output_type": "stream",
     "text": [
      "[Parallel(n_jobs=1)]: Done   5 out of   5 | elapsed:   20.4s remaining:    0.0s\n"
     ]
    },
    {
     "name": "stdout",
     "output_type": "stream",
     "text": [
      "[CV]  alpha=0.1, fit_intercept=True, normalize=False, score=0.2708332235025105, total=   2.6s\n",
      "[CV] alpha=0.1, fit_intercept=True, normalize=False ..................\n"
     ]
    },
    {
     "name": "stderr",
     "output_type": "stream",
     "text": [
      "[Parallel(n_jobs=1)]: Done   6 out of   6 | elapsed:   23.6s remaining:    0.0s\n"
     ]
    },
    {
     "name": "stdout",
     "output_type": "stream",
     "text": [
      "[CV]  alpha=0.1, fit_intercept=True, normalize=False, score=0.2658813656507011, total=   2.4s\n",
      "[CV] alpha=0.1, fit_intercept=True, normalize=False ..................\n"
     ]
    },
    {
     "name": "stderr",
     "output_type": "stream",
     "text": [
      "[Parallel(n_jobs=1)]: Done   7 out of   7 | elapsed:   26.7s remaining:    0.0s\n"
     ]
    },
    {
     "name": "stdout",
     "output_type": "stream",
     "text": [
      "[CV]  alpha=0.1, fit_intercept=True, normalize=False, score=0.2675668954002851, total=   2.5s\n",
      "[CV] alpha=0.1, fit_intercept=True, normalize=False ..................\n"
     ]
    },
    {
     "name": "stderr",
     "output_type": "stream",
     "text": [
      "[Parallel(n_jobs=1)]: Done   8 out of   8 | elapsed:   29.8s remaining:    0.0s\n"
     ]
    },
    {
     "name": "stdout",
     "output_type": "stream",
     "text": [
      "[CV]  alpha=0.1, fit_intercept=True, normalize=False, score=0.2695998265663967, total=   3.0s\n",
      "[CV] alpha=0.1, fit_intercept=True, normalize=False ..................\n"
     ]
    },
    {
     "name": "stderr",
     "output_type": "stream",
     "text": [
      "[Parallel(n_jobs=1)]: Done   9 out of   9 | elapsed:   33.5s remaining:    0.0s\n"
     ]
    },
    {
     "name": "stdout",
     "output_type": "stream",
     "text": [
      "[CV]  alpha=0.1, fit_intercept=True, normalize=False, score=0.2718847790077399, total=   2.5s\n",
      "[CV] alpha=0.1, fit_intercept=False, normalize=True ..................\n",
      "[CV]  alpha=0.1, fit_intercept=False, normalize=True, score=0.2708332051030897, total=   2.2s\n",
      "[CV] alpha=0.1, fit_intercept=False, normalize=True ..................\n",
      "[CV]  alpha=0.1, fit_intercept=False, normalize=True, score=0.26588137621938734, total=   2.2s\n",
      "[CV] alpha=0.1, fit_intercept=False, normalize=True ..................\n",
      "[CV]  alpha=0.1, fit_intercept=False, normalize=True, score=0.26756690897009017, total=   2.6s\n",
      "[CV] alpha=0.1, fit_intercept=False, normalize=True ..................\n",
      "[CV]  alpha=0.1, fit_intercept=False, normalize=True, score=0.2695998194649719, total=   2.1s\n",
      "[CV] alpha=0.1, fit_intercept=False, normalize=True ..................\n",
      "[CV]  alpha=0.1, fit_intercept=False, normalize=True, score=0.2718847818654645, total=   2.1s\n",
      "[CV] alpha=0.1, fit_intercept=False, normalize=False .................\n",
      "[CV]  alpha=0.1, fit_intercept=False, normalize=False, score=0.2708332051030897, total=   2.2s\n",
      "[CV] alpha=0.1, fit_intercept=False, normalize=False .................\n",
      "[CV]  alpha=0.1, fit_intercept=False, normalize=False, score=0.26588137621938734, total=   2.6s\n",
      "[CV] alpha=0.1, fit_intercept=False, normalize=False .................\n",
      "[CV]  alpha=0.1, fit_intercept=False, normalize=False, score=0.26756690897009017, total=   2.1s\n",
      "[CV] alpha=0.1, fit_intercept=False, normalize=False .................\n",
      "[CV]  alpha=0.1, fit_intercept=False, normalize=False, score=0.2695998194649719, total=   2.3s\n",
      "[CV] alpha=0.1, fit_intercept=False, normalize=False .................\n",
      "[CV]  alpha=0.1, fit_intercept=False, normalize=False, score=0.2718847818654645, total=   2.1s\n",
      "[CV] alpha=1.0, fit_intercept=True, normalize=True ...................\n",
      "[CV]  alpha=1.0, fit_intercept=True, normalize=True, score=0.22282747956293206, total=   3.0s\n",
      "[CV] alpha=1.0, fit_intercept=True, normalize=True ...................\n",
      "[CV]  alpha=1.0, fit_intercept=True, normalize=True, score=0.22066624011640268, total=   3.6s\n",
      "[CV] alpha=1.0, fit_intercept=True, normalize=True ...................\n",
      "[CV]  alpha=1.0, fit_intercept=True, normalize=True, score=0.2205103388455858, total=   3.0s\n",
      "[CV] alpha=1.0, fit_intercept=True, normalize=True ...................\n",
      "[CV]  alpha=1.0, fit_intercept=True, normalize=True, score=0.2220090757647352, total=   3.0s\n",
      "[CV] alpha=1.0, fit_intercept=True, normalize=True ...................\n",
      "[CV]  alpha=1.0, fit_intercept=True, normalize=True, score=0.22417547104294297, total=   3.1s\n",
      "[CV] alpha=1.0, fit_intercept=True, normalize=False ..................\n",
      "[CV]  alpha=1.0, fit_intercept=True, normalize=False, score=0.2708480824889995, total=   3.0s\n",
      "[CV] alpha=1.0, fit_intercept=True, normalize=False ..................\n",
      "[CV]  alpha=1.0, fit_intercept=True, normalize=False, score=0.26588120824548966, total=   2.5s\n",
      "[CV] alpha=1.0, fit_intercept=True, normalize=False ..................\n",
      "[CV]  alpha=1.0, fit_intercept=True, normalize=False, score=0.2675754174994429, total=   2.6s\n",
      "[CV] alpha=1.0, fit_intercept=True, normalize=False ..................\n",
      "[CV]  alpha=1.0, fit_intercept=True, normalize=False, score=0.26960012813865086, total=   2.6s\n",
      "[CV] alpha=1.0, fit_intercept=True, normalize=False ..................\n",
      "[CV]  alpha=1.0, fit_intercept=True, normalize=False, score=0.2718846365229074, total=   2.9s\n",
      "[CV] alpha=1.0, fit_intercept=False, normalize=True ..................\n",
      "[CV]  alpha=1.0, fit_intercept=False, normalize=True, score=0.27084789785110663, total=   2.1s\n",
      "[CV] alpha=1.0, fit_intercept=False, normalize=True ..................\n",
      "[CV]  alpha=1.0, fit_intercept=False, normalize=True, score=0.26588131309486085, total=   2.1s\n",
      "[CV] alpha=1.0, fit_intercept=False, normalize=True ..................\n",
      "[CV]  alpha=1.0, fit_intercept=False, normalize=True, score=0.2675755528689685, total=   2.1s\n",
      "[CV] alpha=1.0, fit_intercept=False, normalize=True ..................\n",
      "[CV]  alpha=1.0, fit_intercept=False, normalize=True, score=0.269600056761932, total=   2.7s\n",
      "[CV] alpha=1.0, fit_intercept=False, normalize=True ..................\n",
      "[CV]  alpha=1.0, fit_intercept=False, normalize=True, score=0.2718846644644972, total=   2.1s\n",
      "[CV] alpha=1.0, fit_intercept=False, normalize=False .................\n",
      "[CV]  alpha=1.0, fit_intercept=False, normalize=False, score=0.27084789785110663, total=   2.2s\n",
      "[CV] alpha=1.0, fit_intercept=False, normalize=False .................\n",
      "[CV]  alpha=1.0, fit_intercept=False, normalize=False, score=0.26588131309486085, total=   2.1s\n",
      "[CV] alpha=1.0, fit_intercept=False, normalize=False .................\n",
      "[CV]  alpha=1.0, fit_intercept=False, normalize=False, score=0.2675755528689685, total=   2.6s\n",
      "[CV] alpha=1.0, fit_intercept=False, normalize=False .................\n",
      "[CV]  alpha=1.0, fit_intercept=False, normalize=False, score=0.269600056761932, total=   2.2s\n",
      "[CV] alpha=1.0, fit_intercept=False, normalize=False .................\n",
      "[CV]  alpha=1.0, fit_intercept=False, normalize=False, score=0.2718846644644972, total=   2.1s\n",
      "[CV] alpha=10.0, fit_intercept=True, normalize=True ..................\n",
      "[CV]  alpha=10.0, fit_intercept=True, normalize=True, score=0.11857858241494479, total=   3.0s\n",
      "[CV] alpha=10.0, fit_intercept=True, normalize=True ..................\n",
      "[CV]  alpha=10.0, fit_intercept=True, normalize=True, score=0.11789898735469806, total=   3.4s\n",
      "[CV] alpha=10.0, fit_intercept=True, normalize=True ..................\n",
      "[CV]  alpha=10.0, fit_intercept=True, normalize=True, score=0.11755761088884743, total=   3.0s\n",
      "[CV] alpha=10.0, fit_intercept=True, normalize=True ..................\n",
      "[CV]  alpha=10.0, fit_intercept=True, normalize=True, score=0.11805727980193215, total=   3.3s\n",
      "[CV] alpha=10.0, fit_intercept=True, normalize=True ..................\n",
      "[CV]  alpha=10.0, fit_intercept=True, normalize=True, score=0.11960341880071446, total=   3.0s\n",
      "[CV] alpha=10.0, fit_intercept=True, normalize=False .................\n",
      "[CV]  alpha=10.0, fit_intercept=True, normalize=False, score=0.27085292316869214, total=   3.2s\n",
      "[CV] alpha=10.0, fit_intercept=True, normalize=False .................\n",
      "[CV]  alpha=10.0, fit_intercept=True, normalize=False, score=0.2658807392447232, total=   2.7s\n",
      "[CV] alpha=10.0, fit_intercept=True, normalize=False .................\n",
      "[CV]  alpha=10.0, fit_intercept=True, normalize=False, score=0.2675795414311236, total=   2.6s\n",
      "[CV] alpha=10.0, fit_intercept=True, normalize=False .................\n",
      "[CV]  alpha=10.0, fit_intercept=True, normalize=False, score=0.2696005563375685, total=   2.6s\n",
      "[CV] alpha=10.0, fit_intercept=True, normalize=False .................\n",
      "[CV]  alpha=10.0, fit_intercept=True, normalize=False, score=0.2718849171193337, total=   2.7s\n",
      "[CV] alpha=10.0, fit_intercept=False, normalize=True .................\n",
      "[CV]  alpha=10.0, fit_intercept=False, normalize=True, score=0.2708510428341746, total=   2.1s\n",
      "[CV] alpha=10.0, fit_intercept=False, normalize=True .................\n",
      "[CV]  alpha=10.0, fit_intercept=False, normalize=True, score=0.2658817047951253, total=   2.1s\n",
      "[CV] alpha=10.0, fit_intercept=False, normalize=True .................\n",
      "[CV]  alpha=10.0, fit_intercept=False, normalize=True, score=0.2675808236553927, total=   2.2s\n",
      "[CV] alpha=10.0, fit_intercept=False, normalize=True .................\n",
      "[CV]  alpha=10.0, fit_intercept=False, normalize=True, score=0.26959980106618964, total=   2.6s\n",
      "[CV] alpha=10.0, fit_intercept=False, normalize=True .................\n",
      "[CV]  alpha=10.0, fit_intercept=False, normalize=True, score=0.2718851305931219, total=   2.2s\n",
      "[CV] alpha=10.0, fit_intercept=False, normalize=False ................\n",
      "[CV]  alpha=10.0, fit_intercept=False, normalize=False, score=0.2708510428341746, total=   2.3s\n",
      "[CV] alpha=10.0, fit_intercept=False, normalize=False ................\n",
      "[CV]  alpha=10.0, fit_intercept=False, normalize=False, score=0.2658817047951253, total=   2.1s\n",
      "[CV] alpha=10.0, fit_intercept=False, normalize=False ................\n",
      "[CV]  alpha=10.0, fit_intercept=False, normalize=False, score=0.2675808236553927, total=   2.6s\n",
      "[CV] alpha=10.0, fit_intercept=False, normalize=False ................\n",
      "[CV]  alpha=10.0, fit_intercept=False, normalize=False, score=0.26959980106618964, total=   2.2s\n",
      "[CV] alpha=10.0, fit_intercept=False, normalize=False ................\n"
     ]
    },
    {
     "name": "stdout",
     "output_type": "stream",
     "text": [
      "[CV]  alpha=10.0, fit_intercept=False, normalize=False, score=0.2718851305931219, total=   2.1s\n"
     ]
    },
    {
     "name": "stderr",
     "output_type": "stream",
     "text": [
      "[Parallel(n_jobs=1)]: Done  60 out of  60 | elapsed:  3.3min finished\n"
     ]
    },
    {
     "data": {
      "text/plain": [
       "('Ridge Grid search : \\nTime Taken- ',\n",
       " '202.38733887672424',\n",
       " ' \\nScore on Traing Set',\n",
       " '0.2695006193635028',\n",
       " ' \\nScore on Test Set ',\n",
       " '0.26705603170405456',\n",
       " ' \\nAdjusted R Square Score on Training Set ',\n",
       " '0.2693039475813409',\n",
       " ' \\nAdjusted R Square Score on Test Set',\n",
       " '0.26646372226080406',\n",
       " '\\n Best Parameters',\n",
       " \"{'alpha': 10.0, 'fit_intercept': True, 'normalize': False}\")"
      ]
     },
     "execution_count": 73,
     "metadata": {},
     "output_type": "execute_result"
    },
    {
     "data": {
      "image/png": "[encoded data removed]",
      "text/plain": [
       "<Figure size 432x288 with 1 Axes>"
      ]
     },
     "metadata": {},
     "output_type": "display_data"
    }
   ],
   "source": [
    "StatisticalModels.ridge_grid_search(X_train,y_train, X_test,  y_test)"
   ]
  },
  {
   "cell_type": "code",
   "execution_count": 74,
   "metadata": {},
   "outputs": [
    {
     "name": "stdout",
     "output_type": "stream",
     "text": [
      "Fitting 5 folds for each of 12 candidates, totalling 60 fits\n",
      "[CV] alpha=0.1, fit_intercept=True, normalize=True ...................\n"
     ]
    },
    {
     "name": "stderr",
     "output_type": "stream",
     "text": [
      "[Parallel(n_jobs=1)]: Using backend SequentialBackend with 1 concurrent workers.\n"
     ]
    },
    {
     "name": "stdout",
     "output_type": "stream",
     "text": [
      "[CV]  alpha=0.1, fit_intercept=True, normalize=True, score=-6.228370930116967e-08, total=   4.0s\n",
      "[CV] alpha=0.1, fit_intercept=True, normalize=True ...................\n"
     ]
    },
    {
     "name": "stderr",
     "output_type": "stream",
     "text": [
      "[Parallel(n_jobs=1)]: Done   1 out of   1 | elapsed:    4.7s remaining:    0.0s\n"
     ]
    },
    {
     "name": "stdout",
     "output_type": "stream",
     "text": [
      "[CV]  alpha=0.1, fit_intercept=True, normalize=True, score=-1.0066313211876121e-06, total=   3.8s\n",
      "[CV] alpha=0.1, fit_intercept=True, normalize=True ...................\n"
     ]
    },
    {
     "name": "stderr",
     "output_type": "stream",
     "text": [
      "[Parallel(n_jobs=1)]: Done   2 out of   2 | elapsed:    9.1s remaining:    0.0s\n"
     ]
    },
    {
     "name": "stdout",
     "output_type": "stream",
     "text": [
      "[CV]  alpha=0.1, fit_intercept=True, normalize=True, score=-3.231610774201421e-05, total=   3.7s\n",
      "[CV] alpha=0.1, fit_intercept=True, normalize=True ...................\n"
     ]
    },
    {
     "name": "stderr",
     "output_type": "stream",
     "text": [
      "[Parallel(n_jobs=1)]: Done   3 out of   3 | elapsed:   13.5s remaining:    0.0s\n"
     ]
    },
    {
     "name": "stdout",
     "output_type": "stream",
     "text": [
      "[CV]  alpha=0.1, fit_intercept=True, normalize=True, score=-3.5646876700656804e-05, total=   3.7s\n",
      "[CV] alpha=0.1, fit_intercept=True, normalize=True ...................\n"
     ]
    },
    {
     "name": "stderr",
     "output_type": "stream",
     "text": [
      "[Parallel(n_jobs=1)]: Done   4 out of   4 | elapsed:   17.8s remaining:    0.0s\n"
     ]
    },
    {
     "name": "stdout",
     "output_type": "stream",
     "text": [
      "[CV]  alpha=0.1, fit_intercept=True, normalize=True, score=-1.8268019896794385e-07, total=   4.2s\n",
      "[CV] alpha=0.1, fit_intercept=True, normalize=False ..................\n"
     ]
    },
    {
     "name": "stderr",
     "output_type": "stream",
     "text": [
      "[Parallel(n_jobs=1)]: Done   5 out of   5 | elapsed:   22.6s remaining:    0.0s\n"
     ]
    },
    {
     "name": "stdout",
     "output_type": "stream",
     "text": [
      "[CV]  alpha=0.1, fit_intercept=True, normalize=False, score=0.1939375467805713, total=   3.4s\n",
      "[CV] alpha=0.1, fit_intercept=True, normalize=False ..................\n"
     ]
    },
    {
     "name": "stderr",
     "output_type": "stream",
     "text": [
      "[Parallel(n_jobs=1)]: Done   6 out of   6 | elapsed:   26.7s remaining:    0.0s\n"
     ]
    },
    {
     "name": "stdout",
     "output_type": "stream",
     "text": [
      "[CV]  alpha=0.1, fit_intercept=True, normalize=False, score=0.19274767410176208, total=   3.5s\n",
      "[CV] alpha=0.1, fit_intercept=True, normalize=False ..................\n"
     ]
    },
    {
     "name": "stderr",
     "output_type": "stream",
     "text": [
      "[Parallel(n_jobs=1)]: Done   7 out of   7 | elapsed:   30.8s remaining:    0.0s\n"
     ]
    },
    {
     "name": "stdout",
     "output_type": "stream",
     "text": [
      "[CV]  alpha=0.1, fit_intercept=True, normalize=False, score=0.19318766578361424, total=   3.8s\n",
      "[CV] alpha=0.1, fit_intercept=True, normalize=False ..................\n"
     ]
    },
    {
     "name": "stderr",
     "output_type": "stream",
     "text": [
      "[Parallel(n_jobs=1)]: Done   8 out of   8 | elapsed:   35.3s remaining:    0.0s\n"
     ]
    },
    {
     "name": "stdout",
     "output_type": "stream",
     "text": [
      "[CV]  alpha=0.1, fit_intercept=True, normalize=False, score=0.1930128015115351, total=   3.7s\n",
      "[CV] alpha=0.1, fit_intercept=True, normalize=False ..................\n"
     ]
    },
    {
     "name": "stderr",
     "output_type": "stream",
     "text": [
      "[Parallel(n_jobs=1)]: Done   9 out of   9 | elapsed:   39.7s remaining:    0.0s\n"
     ]
    },
    {
     "name": "stdout",
     "output_type": "stream",
     "text": [
      "[CV]  alpha=0.1, fit_intercept=True, normalize=False, score=0.19501025057596857, total=   3.7s\n",
      "[CV] alpha=0.1, fit_intercept=False, normalize=True ..................\n",
      "[CV]  alpha=0.1, fit_intercept=False, normalize=True, score=0.17557799171555255, total=   3.5s\n",
      "[CV] alpha=0.1, fit_intercept=False, normalize=True ..................\n",
      "[CV]  alpha=0.1, fit_intercept=False, normalize=True, score=0.17556997096960336, total=   3.7s\n",
      "[CV] alpha=0.1, fit_intercept=False, normalize=True ..................\n",
      "[CV]  alpha=0.1, fit_intercept=False, normalize=True, score=0.17541519892867774, total=   3.4s\n",
      "[CV] alpha=0.1, fit_intercept=False, normalize=True ..................\n",
      "[CV]  alpha=0.1, fit_intercept=False, normalize=True, score=0.17535947981509992, total=   3.3s\n",
      "[CV] alpha=0.1, fit_intercept=False, normalize=True ..................\n",
      "[CV]  alpha=0.1, fit_intercept=False, normalize=True, score=0.17616452903906288, total=   3.7s\n",
      "[CV] alpha=0.1, fit_intercept=False, normalize=False .................\n",
      "[CV]  alpha=0.1, fit_intercept=False, normalize=False, score=0.17557799171555255, total=   3.4s\n",
      "[CV] alpha=0.1, fit_intercept=False, normalize=False .................\n",
      "[CV]  alpha=0.1, fit_intercept=False, normalize=False, score=0.17556997096960336, total=   3.5s\n",
      "[CV] alpha=0.1, fit_intercept=False, normalize=False .................\n",
      "[CV]  alpha=0.1, fit_intercept=False, normalize=False, score=0.17541519892867774, total=   3.9s\n",
      "[CV] alpha=0.1, fit_intercept=False, normalize=False .................\n",
      "[CV]  alpha=0.1, fit_intercept=False, normalize=False, score=0.17535947981509992, total=   3.4s\n",
      "[CV] alpha=0.1, fit_intercept=False, normalize=False .................\n",
      "[CV]  alpha=0.1, fit_intercept=False, normalize=False, score=0.17616452903906288, total=   3.4s\n",
      "[CV] alpha=1.0, fit_intercept=True, normalize=True ...................\n",
      "[CV]  alpha=1.0, fit_intercept=True, normalize=True, score=-6.228370930116967e-08, total=   4.2s\n",
      "[CV] alpha=1.0, fit_intercept=True, normalize=True ...................\n",
      "[CV]  alpha=1.0, fit_intercept=True, normalize=True, score=-1.0066313211876121e-06, total=   3.8s\n",
      "[CV] alpha=1.0, fit_intercept=True, normalize=True ...................\n",
      "[CV]  alpha=1.0, fit_intercept=True, normalize=True, score=-3.231610774201421e-05, total=   3.7s\n",
      "[CV] alpha=1.0, fit_intercept=True, normalize=True ...................\n",
      "[CV]  alpha=1.0, fit_intercept=True, normalize=True, score=-3.5646876700656804e-05, total=   4.6s\n",
      "[CV] alpha=1.0, fit_intercept=True, normalize=True ...................\n",
      "[CV]  alpha=1.0, fit_intercept=True, normalize=True, score=-1.8268019896794385e-07, total=   3.9s\n",
      "[CV] alpha=1.0, fit_intercept=True, normalize=False ..................\n",
      "[CV]  alpha=1.0, fit_intercept=True, normalize=False, score=-6.228370930116967e-08, total=   3.3s\n",
      "[CV] alpha=1.0, fit_intercept=True, normalize=False ..................\n",
      "[CV]  alpha=1.0, fit_intercept=True, normalize=False, score=-1.0066313211876121e-06, total=   3.7s\n",
      "[CV] alpha=1.0, fit_intercept=True, normalize=False ..................\n",
      "[CV]  alpha=1.0, fit_intercept=True, normalize=False, score=-3.231610774201421e-05, total=   3.2s\n",
      "[CV] alpha=1.0, fit_intercept=True, normalize=False ..................\n",
      "[CV]  alpha=1.0, fit_intercept=True, normalize=False, score=-3.5646876700656804e-05, total=   3.1s\n",
      "[CV] alpha=1.0, fit_intercept=True, normalize=False ..................\n",
      "[CV]  alpha=1.0, fit_intercept=True, normalize=False, score=-1.8268019896794385e-07, total=   3.1s\n",
      "[CV] alpha=1.0, fit_intercept=False, normalize=True ..................\n",
      "[CV]  alpha=1.0, fit_intercept=False, normalize=True, score=-1.8166714514933346e-06, total=   3.1s\n",
      "[CV] alpha=1.0, fit_intercept=False, normalize=True ..................\n",
      "[CV]  alpha=1.0, fit_intercept=False, normalize=True, score=-1.2031038587601017e-07, total=   2.6s\n",
      "[CV] alpha=1.0, fit_intercept=False, normalize=True ..................\n",
      "[CV]  alpha=1.0, fit_intercept=False, normalize=True, score=-1.1525209686391591e-05, total=   2.6s\n",
      "[CV] alpha=1.0, fit_intercept=False, normalize=True ..................\n",
      "[CV]  alpha=1.0, fit_intercept=False, normalize=True, score=-3.50643329516398e-05, total=   2.7s\n",
      "[CV] alpha=1.0, fit_intercept=False, normalize=True ..................\n",
      "[CV]  alpha=1.0, fit_intercept=False, normalize=True, score=-2.2194391284813264e-06, total=   3.0s\n",
      "[CV] alpha=1.0, fit_intercept=False, normalize=False .................\n",
      "[CV]  alpha=1.0, fit_intercept=False, normalize=False, score=-1.8166714514933346e-06, total=   2.7s\n",
      "[CV] alpha=1.0, fit_intercept=False, normalize=False .................\n",
      "[CV]  alpha=1.0, fit_intercept=False, normalize=False, score=-1.2031038587601017e-07, total=   2.6s\n",
      "[CV] alpha=1.0, fit_intercept=False, normalize=False .................\n",
      "[CV]  alpha=1.0, fit_intercept=False, normalize=False, score=-1.1525209686391591e-05, total=   2.5s\n",
      "[CV] alpha=1.0, fit_intercept=False, normalize=False .................\n",
      "[CV]  alpha=1.0, fit_intercept=False, normalize=False, score=-3.50643329516398e-05, total=   3.0s\n",
      "[CV] alpha=1.0, fit_intercept=False, normalize=False .................\n",
      "[CV]  alpha=1.0, fit_intercept=False, normalize=False, score=-2.2194391284813264e-06, total=   2.5s\n",
      "[CV] alpha=10.0, fit_intercept=True, normalize=True ..................\n",
      "[CV]  alpha=10.0, fit_intercept=True, normalize=True, score=-6.228370930116967e-08, total=   3.7s\n",
      "[CV] alpha=10.0, fit_intercept=True, normalize=True ..................\n",
      "[CV]  alpha=10.0, fit_intercept=True, normalize=True, score=-1.0066313211876121e-06, total=   3.7s\n",
      "[CV] alpha=10.0, fit_intercept=True, normalize=True ..................\n",
      "[CV]  alpha=10.0, fit_intercept=True, normalize=True, score=-3.231610774201421e-05, total=   4.1s\n",
      "[CV] alpha=10.0, fit_intercept=True, normalize=True ..................\n",
      "[CV]  alpha=10.0, fit_intercept=True, normalize=True, score=-3.5646876700656804e-05, total=   3.7s\n",
      "[CV] alpha=10.0, fit_intercept=True, normalize=True ..................\n",
      "[CV]  alpha=10.0, fit_intercept=True, normalize=True, score=-1.8268019896794385e-07, total=   3.7s\n",
      "[CV] alpha=10.0, fit_intercept=True, normalize=False .................\n",
      "[CV]  alpha=10.0, fit_intercept=True, normalize=False, score=-6.228370930116967e-08, total=   3.2s\n",
      "[CV] alpha=10.0, fit_intercept=True, normalize=False .................\n",
      "[CV]  alpha=10.0, fit_intercept=True, normalize=False, score=-1.0066313211876121e-06, total=   3.7s\n",
      "[CV] alpha=10.0, fit_intercept=True, normalize=False .................\n",
      "[CV]  alpha=10.0, fit_intercept=True, normalize=False, score=-3.231610774201421e-05, total=   3.2s\n",
      "[CV] alpha=10.0, fit_intercept=True, normalize=False .................\n",
      "[CV]  alpha=10.0, fit_intercept=True, normalize=False, score=-3.5646876700656804e-05, total=   3.2s\n",
      "[CV] alpha=10.0, fit_intercept=True, normalize=False .................\n",
      "[CV]  alpha=10.0, fit_intercept=True, normalize=False, score=-1.8268019896794385e-07, total=   3.2s\n",
      "[CV] alpha=10.0, fit_intercept=False, normalize=True .................\n",
      "[CV]  alpha=10.0, fit_intercept=False, normalize=True, score=-1.8166714514933346e-06, total=   3.0s\n",
      "[CV] alpha=10.0, fit_intercept=False, normalize=True .................\n",
      "[CV]  alpha=10.0, fit_intercept=False, normalize=True, score=-1.2031038587601017e-07, total=   2.6s\n",
      "[CV] alpha=10.0, fit_intercept=False, normalize=True .................\n",
      "[CV]  alpha=10.0, fit_intercept=False, normalize=True, score=-1.1525209686391591e-05, total=   2.5s\n",
      "[CV] alpha=10.0, fit_intercept=False, normalize=True .................\n",
      "[CV]  alpha=10.0, fit_intercept=False, normalize=True, score=-3.50643329516398e-05, total=   2.6s\n",
      "[CV] alpha=10.0, fit_intercept=False, normalize=True .................\n",
      "[CV]  alpha=10.0, fit_intercept=False, normalize=True, score=-2.2194391284813264e-06, total=   3.1s\n",
      "[CV] alpha=10.0, fit_intercept=False, normalize=False ................\n",
      "[CV]  alpha=10.0, fit_intercept=False, normalize=False, score=-1.8166714514933346e-06, total=   2.6s\n",
      "[CV] alpha=10.0, fit_intercept=False, normalize=False ................\n",
      "[CV]  alpha=10.0, fit_intercept=False, normalize=False, score=-1.2031038587601017e-07, total=   2.7s\n",
      "[CV] alpha=10.0, fit_intercept=False, normalize=False ................\n",
      "[CV]  alpha=10.0, fit_intercept=False, normalize=False, score=-1.1525209686391591e-05, total=   2.7s\n",
      "[CV] alpha=10.0, fit_intercept=False, normalize=False ................\n"
     ]
    },
    {
     "name": "stdout",
     "output_type": "stream",
     "text": [
      "[CV]  alpha=10.0, fit_intercept=False, normalize=False, score=-3.50643329516398e-05, total=   3.0s\n",
      "[CV] alpha=10.0, fit_intercept=False, normalize=False ................\n",
      "[CV]  alpha=10.0, fit_intercept=False, normalize=False, score=-2.2194391284813264e-06, total=   2.6s\n"
     ]
    },
    {
     "name": "stderr",
     "output_type": "stream",
     "text": [
      "[Parallel(n_jobs=1)]: Done  60 out of  60 | elapsed:  4.0min finished\n"
     ]
    },
    {
     "data": {
      "text/plain": [
       "('Lasso Grid search : \\nTime Taken- ',\n",
       " '245.42332530021667',\n",
       " ' \\nScore on Traing Set',\n",
       " '0.19360334970033044',\n",
       " ' \\nScore on Test Set ',\n",
       " '0.1933454410680876',\n",
       " ' \\nAdjusted R Square Score on Training Set ',\n",
       " '0.19338624415507244',\n",
       " ' \\nAdjusted R Square Score on Test Set',\n",
       " '0.192693564344404',\n",
       " '\\n Best Parameters',\n",
       " \"{'alpha': 0.1, 'fit_intercept': True, 'normalize': False}\")"
      ]
     },
     "execution_count": 74,
     "metadata": {},
     "output_type": "execute_result"
    },
    {
     "data": {
      "image/png": "[encoded data removed]",
      "text/plain": [
       "<Figure size 432x288 with 1 Axes>"
      ]
     },
     "metadata": {},
     "output_type": "display_data"
    }
   ],
   "source": [
    "StatisticalModels.lasso_grid_search(X_train,y_train, X_test,  y_test)"
   ]
  },
  {
   "cell_type": "code",
   "execution_count": 75,
   "metadata": {},
   "outputs": [
    {
     "data": {
      "text/plain": [
       "('XGB regressor:  Time Taken- ',\n",
       " '415.36496567726135',\n",
       " '  Score on Traing Set',\n",
       " '0.30934529556295043',\n",
       " '  Score on Test Set ',\n",
       " '0.3067777269606732',\n",
       " '  Adjusted R Square Score on Training Set ',\n",
       " '0.3091593511320849',\n",
       " '  Adjusted R Square Score on Test Set',\n",
       " '0.3062175175635655')"
      ]
     },
     "execution_count": 75,
     "metadata": {},
     "output_type": "execute_result"
    },
    {
     "data": {
      "image/png": "[encoded data removed]",
      "text/plain": [
       "<Figure size 432x288 with 1 Axes>"
      ]
     },
     "metadata": {},
     "output_type": "display_data"
    }
   ],
   "source": [
    "MLModels.mlmodel_xgb_regressor(X_train,y_train, X_test,  y_test)"
   ]
  },
  {
   "cell_type": "code",
   "execution_count": 8,
   "metadata": {},
   "outputs": [
    {
     "name": "stdout",
     "output_type": "stream",
     "text": [
      "# packages in environment at /root/anaconda3:\r\n",
      "#\r\n",
      "# Name                    Version                   Build  Channel\r\n",
      "_ipyw_jlab_nb_ext_conf    0.1.0            py36he11e457_0  \r\n",
      "absl-py                   0.5.0                      py_0    conda-forge\r\n",
      "alabaster                 0.7.10           py36h306e16b_0  \r\n",
      "alembic                   0.9.9                      py_0    conda-forge\r\n",
      "anaconda                  custom           py36hbbc8b67_0  \r\n",
      "anaconda-client           1.6.14                   py36_0  \r\n",
      "anaconda-navigator        1.8.7                    py36_0  \r\n",
      "anaconda-project          0.8.2            py36h44fb852_0  \r\n",
      "arrow-cpp                 0.10.0           py36h70250a7_0    conda-forge\r\n",
      "asn1crypto                0.24.0                   py36_0  \r\n",
      "astor                     0.7.1                      py_0    conda-forge\r\n",
      "astroid                   1.6.3                    py36_0  \r\n",
      "astropy                   3.0.2            py36h3010b51_1  \r\n",
      "async_generator           1.10                       py_0    conda-forge\r\n",
      "attrs                     18.1.0                   py36_0  \r\n",
      "auto-sklearn              0.4.0                     <pip>\r\n",
      "babel                     2.5.3                    py36_0  \r\n",
      "backcall                  0.1.0                    py36_0  \r\n",
      "backports                 1.0              py36hfa02d7e_1  \r\n",
      "backports.shutil_get_terminal_size 1.0.0            py36hfea85ff_2  \r\n",
      "bayesian-optimization     0.6.0                     <pip>\r\n",
      "beautifulsoup4            4.6.0            py36h49b8c8c_1  \r\n",
      "binutils_impl_linux-64    2.31.1               h6176602_1  \r\n",
      "binutils_linux-64         2.31.1               h6176602_3  \r\n",
      "bitarray                  0.8.1            py36h14c3975_1  \r\n",
      "bkcharts                  0.2              py36h735825a_0  \r\n",
      "blas                      1.0                         mkl  \r\n",
      "blaze                     0.11.3           py36h4e06776_0  \r\n",
      "bleach                    2.1.3                    py36_0  \r\n",
      "blosc                     1.14.3               hdbcaa40_0  \r\n",
      "bokeh                     0.12.16                  py36_0  \r\n",
      "boost-cpp                 1.67.0               h3a22d5f_0    conda-forge\r\n",
      "boto                      2.48.0           py36h6e4cd66_1  \r\n",
      "bottleneck                1.2.1            py36haac1ea0_0  \r\n",
      "bzip2                     1.0.6                h14c3975_5  \r\n",
      "c-ares                    1.14.0               h470a237_0    conda-forge\r\n",
      "ca-certificates           2018.03.07                    0    anaconda\r\n",
      "cairo                     1.14.12              h7636065_2  \r\n",
      "catboost                  0.10.2                   py36_0    conda-forge\r\n",
      "certifi                   2018.10.15               py36_0    anaconda\r\n",
      "cffi                      1.11.5           py36h9745a5d_0  \r\n",
      "chardet                   3.0.4            py36h0f667ec_1  \r\n",
      "click                     6.7              py36h5253387_0  \r\n",
      "cloudpickle               0.5.3                    py36_0  \r\n",
      "clyent                    1.2.2            py36h7e57e65_1  \r\n",
      "colorama                  0.3.9            py36h489cec4_0  \r\n",
      "conda                     4.5.11                   py36_0    anaconda\r\n",
      "conda-build               3.10.5                   py36_0  \r\n",
      "conda-env                 2.6.0                h36134e3_1  \r\n",
      "conda-verify              2.0.0            py36h98955d8_0  \r\n",
      "ConfigSpace               0.4.7                     <pip>\r\n",
      "configurable-http-proxy   3.1.0                   node8_1    conda-forge\r\n",
      "contextlib2               0.5.5            py36h6c84a62_0  \r\n",
      "cryptography              2.2.2            py36h14c3975_0  \r\n",
      "curl                      7.60.0               h84994c4_0  \r\n",
      "cycler                    0.10.0           py36h93f1223_0  \r\n",
      "cython                    0.28.2           py36h14c3975_0  \r\n",
      "cytoolz                   0.9.0.1          py36h14c3975_0  \r\n",
      "dask                      0.17.5                   py36_0  \r\n",
      "dask-core                 0.17.5                   py36_0  \r\n",
      "datashape                 0.5.4            py36h3ad6b5c_0  \r\n",
      "dbus                      1.13.2               h714fa37_1  \r\n",
      "decorator                 4.3.0                    py36_0  \r\n",
      "dill                      0.2.8.2                   <pip>\r\n",
      "distributed               1.21.8                   py36_0  \r\n",
      "docutils                  0.14             py36hb0f60f5_0  \r\n",
      "entrypoints               0.2.3            py36h1aec115_2  \r\n",
      "et_xmlfile                1.0.1            py36hd6bccc3_0  \r\n",
      "expat                     2.2.5                he0dffb1_0  \r\n",
      "fastcache                 1.0.2            py36h14c3975_2  \r\n",
      "feather-format            0.4.0                    py36_2    conda-forge\r\n",
      "filelock                  3.0.4                    py36_0  \r\n",
      "flask                     1.0.2                    py36_1  \r\n",
      "flask-cors                3.0.4                    py36_0  \r\n",
      "fontconfig                2.12.6               h49f89f6_0  \r\n",
      "freetype                  2.8                  hab7d2ae_1  \r\n",
      "future                    0.17.1                   py36_0    anaconda\r\n",
      "gast                      0.2.0                      py_0    conda-forge\r\n",
      "gcc_impl_linux-64         7.3.0                habb00fd_1  \r\n",
      "gcc_linux-64              7.3.0                h553295d_3  \r\n",
      "get_terminal_size         1.0.0                haa9412d_0  \r\n",
      "gevent                    1.3.0            py36h14c3975_0  \r\n",
      "glib                      2.56.1               h000015b_0  \r\n",
      "glob2                     0.6              py36he249c77_0  \r\n",
      "gmp                       6.1.2                h6c8ec71_1  \r\n",
      "gmpy2                     2.0.8            py36hc8893dd_2  \r\n",
      "graphite2                 1.3.11               h16798f4_2  \r\n",
      "greenlet                  0.4.13           py36h14c3975_0  \r\n",
      "grpcio                    1.14.1           py36hd60e7a3_0    conda-forge\r\n",
      "gst-plugins-base          1.14.0               hbbd80ab_1  \r\n",
      "gstreamer                 1.14.0               hb453b48_1  \r\n",
      "gxx_impl_linux-64         7.3.0                hdf63c60_1  \r\n",
      "gxx_linux-64              7.3.0                h553295d_3  \r\n",
      "h2o                       3.18.0.2                      0    anaconda\r\n",
      "h5py                      2.7.1            py36ha1f6525_2  \r\n",
      "harfbuzz                  1.7.6                h5f0a787_1  \r\n",
      "hdf5                      1.10.2               hba1933b_1  \r\n",
      "heapdict                  1.0.0                    py36_2  \r\n",
      "html5lib                  1.0.1            py36h2f9c1c0_0  \r\n",
      "icu                       58.2                 h9c2bf20_1  \r\n",
      "idna                      2.6              py36h82fb2a8_1  \r\n",
      "imageio                   2.3.0                    py36_0  \r\n",
      "imagesize                 1.0.0                    py36_0  \r\n",
      "intel-openmp              2018.0.0                      8  \r\n",
      "ipykernel                 4.8.2                    py36_0  \r\n",
      "ipython                   6.4.0                    py36_0  \r\n",
      "ipython_genutils          0.2.0            py36hb52b0d5_0  \r\n",
      "ipywidgets                7.2.1                    py36_0  \r\n",
      "isort                     4.3.4                    py36_0  \r\n",
      "itsdangerous              0.24             py36h93cc618_1  \r\n",
      "jbig                      2.1                  hdba287a_0  \r\n",
      "jdcal                     1.4                      py36_0  \r\n",
      "jedi                      0.12.0                   py36_1  \r\n",
      "jinja2                    2.10             py36ha16c418_0  \r\n",
      "joblib                    0.12.5                    <pip>\r\n",
      "jpeg                      9b                   h024ee3a_2  \r\n",
      "jsonschema                2.6.0            py36h006f8b5_0  \r\n",
      "jupyter                   1.0.0                    py36_4  \r\n",
      "jupyter_client            5.2.3                    py36_0  \r\n",
      "jupyter_console           5.2.0            py36he59e554_1  \r\n",
      "jupyter_core              4.4.0            py36h7c827e3_0  \r\n",
      "jupyterhub                0.9.4                    py36_0    conda-forge\r\n",
      "jupyterlab                0.32.1                   py36_0  \r\n",
      "jupyterlab_launcher       0.10.5                   py36_0  \r\n",
      "keras                     2.2.2                    py36_0    conda-forge\r\n",
      "keras-applications        1.0.4                      py_1    conda-forge\r\n",
      "keras-preprocessing       1.0.2                      py_1    conda-forge\r\n",
      "kiwisolver                1.0.1            py36h764f252_0  \r\n",
      "lazy-object-proxy         1.3.1            py36h10fcdad_0  \r\n",
      "liac-arff                 2.3.1                     <pip>\r\n",
      "libcurl                   7.60.0               h1ad7b7a_0  \r\n",
      "libedit                   3.1.20170329         h6b74fdf_2  \r\n",
      "libffi                    3.2.1                hd88cf55_4  \r\n",
      "libgcc                    7.2.0                h69d50b8_2    conda-forge\r\n",
      "libgcc-ng                 8.2.0                hdf63c60_1  \r\n",
      "libgfortran-ng            7.2.0                hdf63c60_3  \r\n",
      "libgpuarray               0.7.6                h470a237_3    conda-forge\r\n",
      "libpng                    1.6.34               hb9fc6fc_0  \r\n",
      "libprotobuf               3.6.0                hd28b015_0    conda-forge\r\n",
      "libsodium                 1.0.16               h1bed415_0  \r\n",
      "libssh2                   1.8.0                h9cfc8f7_4  \r\n",
      "libstdcxx-ng              8.2.0                hdf63c60_1  \r\n",
      "libtiff                   4.0.9                he85c1e1_1  \r\n",
      "libtool                   2.4.6                h544aabb_3  \r\n",
      "libxcb                    1.13                 h1bed415_1  \r\n",
      "libxml2                   2.9.8                h26e45fe_1  \r\n",
      "libxslt                   1.1.32               h1312cb7_0  \r\n",
      "Lifetimes                 0.9.1.0                   <pip>\r\n",
      "lightgbm                  2.1.2            py36hfc679d8_0    conda-forge\r\n",
      "lime                      0.1.1.32                   py_1    conda-forge\r\n",
      "llvmlite                  0.23.1           py36hdbcaa40_0  \r\n",
      "locket                    0.2.0            py36h787c0ad_1  \r\n",
      "lockfile                  0.12.2                    <pip>\r\n",
      "lxml                      4.2.1            py36h23eabaa_0  \r\n",
      "lzo                       2.10                 h49e0be7_2  \r\n",
      "mako                      1.0.7                      py_1    conda-forge\r\n",
      "markdown                  2.6.11                     py_0    conda-forge\r\n",
      "markupsafe                1.0              py36hd9260cd_1  \r\n",
      "matplotlib                2.2.2            py36h0e671d2_1  \r\n",
      "mccabe                    0.6.1            py36h5ad9710_1  \r\n",
      "mistune                   0.8.3            py36h14c3975_1  \r\n",
      "mkl                       2019.0                      117  \r\n",
      "mkl-service               1.1.2            py36h17a0993_4  \r\n",
      "mkl_fft                   1.0.4            py36h4414c95_1  \r\n",
      "mkl_random                1.0.1            py36h629b387_0  \r\n",
      "more-itertools            4.1.0                    py36_0  \r\n",
      "mpc                       1.0.3                hec55b23_5  \r\n",
      "mpfr                      3.1.5                h11a74b3_2  \r\n",
      "mpmath                    1.0.0            py36hfeacd6b_2  \r\n",
      "msgpack-python            0.5.6            py36h6bb024c_0  \r\n",
      "multipledispatch          0.5.0                    py36_0  \r\n",
      "navigator-updater         0.2.1                    py36_0  \r\n",
      "nbconvert                 5.3.1            py36hb41ffb7_0  \r\n",
      "nbformat                  4.4.0            py36h31c9010_0  \r\n",
      "ncurses                   6.1                  hf484d3e_0  \r\n",
      "networkx                  2.1                      py36_0  \r\n",
      "nltk                      3.3.0                    py36_0  \r\n",
      "nodejs                    8.10.0                        0    conda-forge\r\n",
      "nose                      1.3.7            py36hcdf7029_2  \r\n",
      "notebook                  5.5.0                    py36_0  \r\n",
      "numba                     0.38.0           py36h637b7d7_0  \r\n",
      "numexpr                   2.6.5            py36h7bf3b9c_0  \r\n",
      "numpy                     1.15.1           py36h1d66e8a_0  \r\n",
      "numpy-base                1.15.1           py36h81de0dd_0  \r\n",
      "numpydoc                  0.8.0                    py36_0  \r\n",
      "odo                       0.5.1            py36h90ed295_0  \r\n",
      "olefile                   0.45.1                   py36_0  \r\n",
      "openjdk                   8.0.121                       1    anaconda\r\n",
      "openpyxl                  2.5.3                    py36_0  \r\n",
      "openssl                   1.0.2p               h14c3975_0    anaconda\r\n",
      "packaging                 17.1                     py36_0  \r\n",
      "pamela                    0.3.0                    py36_0    conda-forge\r\n",
      "pandas                    0.23.4           py36h04863e7_0  \r\n",
      "pandoc                    1.19.2.1             hea2e7c5_1  \r\n",
      "pandocfilters             1.4.2            py36ha6701b7_1  \r\n",
      "pango                     1.41.0               hd475d92_0  \r\n",
      "parquet-cpp               1.5.0.pre            h83d4a3d_0    conda-forge\r\n",
      "parso                     0.2.0                    py36_0  \r\n",
      "partd                     0.3.8            py36h36fd896_0  \r\n",
      "patchelf                  0.9                  hf79760b_2  \r\n",
      "path.py                   11.0.1                   py36_0  \r\n",
      "pathlib2                  2.3.2                    py36_0  \r\n",
      "patsy                     0.5.0                    py36_0  \r\n",
      "pcre                      8.42                 h439df22_0  \r\n",
      "pep8                      1.7.1                    py36_0  \r\n",
      "pexpect                   4.5.0                    py36_0  \r\n",
      "pickleshare               0.7.4            py36h63277f8_0  \r\n",
      "pillow                    5.1.0            py36h3deb7b8_0  \r\n",
      "pip                       10.0.1                   py36_0  \r\n",
      "pip                       18.0                      <pip>\r\n",
      "pixman                    0.34.0               hceecf20_3  \r\n",
      "pkginfo                   1.4.2                    py36_1  \r\n",
      "plotly                    3.3.0                    py36_0    plotly\r\n",
      "pluggy                    0.6.0            py36hb689045_0  \r\n",
      "ply                       3.11                     py36_0  \r\n",
      "prometheus_client         0.3.1                      py_1    conda-forge\r\n",
      "prompt_toolkit            1.0.15           py36h17d85b1_0  \r\n",
      "protobuf                  3.6.0            py36hfc679d8_0    conda-forge\r\n",
      "psutil                    5.4.5            py36h14c3975_0  \r\n",
      "ptyprocess                0.5.2            py36h69acd42_0  \r\n",
      "py                        1.5.3                    py36_0  \r\n",
      "pyarrow                   0.10.0           py36hfc679d8_0    conda-forge\r\n",
      "pycodestyle               2.4.0                    py36_0  \r\n",
      "pycosat                   0.6.3            py36h0a5515d_0  \r\n",
      "pycparser                 2.18             py36hf9f622e_1  \r\n",
      "pycrypto                  2.6.1            py36h14c3975_8  \r\n",
      "pycurl                    7.43.0.1         py36hb7f436b_0  \r\n",
      "pyflakes                  1.6.0            py36h7bd6a15_0  \r\n",
      "pygments                  2.2.0            py36h0d3125c_0  \r\n",
      "pygpu                     0.7.6                    py36_0    conda-forge\r\n",
      "pylint                    1.8.4                    py36_0  \r\n",
      "pynisher                  0.4.2                     <pip>\r\n",
      "pyodbc                    4.0.23           py36hf484d3e_0  \r\n",
      "pyopenssl                 18.0.0                   py36_0  \r\n",
      "pyparsing                 2.2.0            py36hee85983_1  \r\n",
      "pyqt                      5.9.2            py36h751905a_0  \r\n",
      "pyrfr                     0.7.4                     <pip>\r\n",
      "pysocks                   1.6.8                    py36_0  \r\n",
      "pytables                  3.4.3            py36h02b9ad4_2  \r\n",
      "pytest                    3.5.1                    py36_0  \r\n",
      "pytest-arraydiff          0.2                      py36_0  \r\n",
      "pytest-astropy            0.3.0                    py36_0  \r\n",
      "pytest-doctestplus        0.1.3                    py36_0  \r\n",
      "pytest-openfiles          0.3.0                    py36_0  \r\n",
      "pytest-remotedata         0.2.1                    py36_0  \r\n",
      "python                    3.6.5                hc3d631a_2  \r\n",
      "python-dateutil           2.7.3                    py36_0  \r\n",
      "python-editor             1.0.3                      py_0    conda-forge\r\n",
      "python-oauth2             1.0.1                    py36_0    conda-forge\r\n",
      "pytz                      2018.4                   py36_0  \r\n",
      "pywavelets                0.5.2            py36he602eb0_0  \r\n",
      "pyyaml                    3.12             py36hafb9ca4_1  \r\n",
      "pyzmq                     17.0.0           py36h14c3975_0  \r\n",
      "qt                        5.9.5                h7e424d6_0  \r\n",
      "qtawesome                 0.4.4            py36h609ed8c_0  \r\n",
      "qtconsole                 4.3.1            py36h8f73b5b_0  \r\n",
      "qtpy                      1.4.1                    py36_0  \r\n",
      "readline                  7.0                  ha6073c6_4  \r\n",
      "requests                  2.18.4           py36he2e5f8d_1  \r\n",
      "retrying                  1.3.3                    py36_2  \r\n",
      "rope                      0.10.7           py36h147e2ec_0  \r\n",
      "ruamel_yaml               0.15.35          py36h14c3975_1  \r\n",
      "scikit-image              0.13.1           py36h14c3975_1  \r\n",
      "scikit-learn              0.20.0           py36h4989274_1  \r\n",
      "scipy                     1.1.0            py36hfa4b5c9_1  \r\n",
      "seaborn                   0.8.1            py36hfad7ec4_0  \r\n",
      "send2trash                1.5.0                    py36_0  \r\n",
      "setuptools                39.1.0                   py36_0  \r\n",
      "simplegeneric             0.8.1                    py36_2  \r\n",
      "singledispatch            3.4.0.3          py36h7a266c3_0  \r\n",
      "sip                       4.19.8           py36hf484d3e_0  \r\n",
      "six                       1.11.0           py36h372c433_1  \r\n",
      "smac                      0.8.0                     <pip>\r\n",
      "snappy                    1.1.7                hbae5bb6_3  \r\n",
      "snowballstemmer           1.2.1            py36h6febd40_0  \r\n",
      "sortedcollections         0.6.1                    py36_0  \r\n",
      "sortedcontainers          1.5.10                   py36_0  \r\n",
      "sphinx                    1.7.4                    py36_0  \r\n",
      "sphinx-rtd-theme          0.4.1                     <pip>\r\n",
      "sphinxcontrib             1.0              py36h6d0f590_1  \r\n",
      "sphinxcontrib-websupport  1.0.1            py36hb5cb234_1  \r\n",
      "spyder                    3.2.8                    py36_0  \r\n",
      "sqlalchemy                1.2.7            py36h6b74fdf_0  \r\n",
      "sqlite                    3.23.1               he433501_0  \r\n",
      "statsmodels               0.9.0            py36h035aef0_0  \r\n",
      "swig                      3.0.12               h38cdd7d_3  \r\n",
      "sympy                     1.1.1            py36hc6d1c1c_0  \r\n",
      "tabulate                  0.8.2                      py_0    conda-forge\r\n",
      "tblib                     1.3.2            py36h34cf8b6_0  \r\n",
      "tensorboard               1.10.0                   py36_0    conda-forge\r\n",
      "tensorflow                1.10.0                   py36_0    conda-forge\r\n",
      "termcolor                 1.1.0                      py_2    conda-forge\r\n",
      "terminado                 0.8.1                    py36_1  \r\n",
      "testpath                  0.3.1            py36h8cadb63_0  \r\n",
      "theano                    1.0.3                    py36_0    conda-forge\r\n",
      "tk                        8.6.7                hc745277_3  \r\n",
      "toolz                     0.9.0                    py36_0  \r\n",
      "tornado                   5.0.2                    py36_0  \r\n",
      "traitlets                 4.3.2            py36h674d592_0  \r\n",
      "typing                    3.6.4                    py36_0  \r\n",
      "unicodecsv                0.14.1           py36ha668878_0  \r\n",
      "unixodbc                  2.3.6                h1bed415_0  \r\n",
      "urllib3                   1.22             py36hbe7ace6_0  \r\n",
      "wcwidth                   0.1.7            py36hdf4376a_0  \r\n",
      "webencodings              0.5.1            py36h800622e_1  \r\n",
      "werkzeug                  0.14.1                   py36_0  \r\n",
      "wheel                     0.31.1                   py36_0  \r\n",
      "widgetsnbextension        3.2.1                    py36_0  \r\n",
      "wrapt                     1.10.11          py36h28b7045_0  \r\n",
      "xgboost                   0.7.post3                 <pip>\r\n",
      "xlrd                      1.1.0            py36h1db9f0c_1  \r\n",
      "xlsxwriter                1.0.4                    py36_0  \r\n",
      "xlwt                      1.3.0            py36h7b00a1f_0  \r\n",
      "xz                        5.2.4                h14c3975_4  \r\n",
      "yaml                      0.1.7                had09818_2  \r\n",
      "zeromq                    4.2.5                h439df22_0  \r\n",
      "zict                      0.1.3            py36h3a3bf81_0  \r\n",
      "zlib                      1.2.11               ha838bed_2  \r\n"
     ]
    }
   ],
   "source": [
    "!conda list"
   ]
  },
  {
   "cell_type": "code",
   "execution_count": 1,
   "metadata": {},
   "outputs": [
    {
     "name": "stdout",
     "output_type": "stream",
     "text": [
      "[NbConvertApp] Converting notebook Model1_lexus_c360_customeradt_lexussegmentation_2012_09_30.ipynb to script\n",
      "[NbConvertApp] Writing 42294 bytes to Model1_lexus_c360_customeradt_lexussegmentation_2012_09_30.py\n"
     ]
    }
   ],
   "source": [
    "!jupyter nbconvert --to script Model1_lexus_c360_customeradt_lexussegmentation_2012_09_30.ipynb"
   ]
  },
  {
   "cell_type": "code",
   "execution_count": 325,
   "metadata": {},
   "outputs": [
    {
     "name": "stdout",
     "output_type": "stream",
     "text": [
      "R squared Score on Train: 0.0\n",
      "R squared Score on Test: -1.2216851308366472e-07\n",
      "Adjusted R Squared Score on Train: -0.0002515123211517256\n",
      "Adjusted R Squared Score on Test: -0.0007550398577631512\n",
      "Root Mean Squared error on Train: 0.21419339519374828\n",
      "Root Mean Squared error on Test: 0.18193201519910282\n",
      "Lasso baseline model: Time Taken-  3.0509016513824463\n"
     ]
    },
    {
     "data": {
      "image/png": "[encoded data removed]",
      "text/plain": [
       "<Figure size 432x288 with 1 Axes>"
      ]
     },
     "metadata": {},
     "output_type": "display_data"
    }
   ],
   "source": [
    "lasso= StatisticalModels.lasso_baseline_model(X_train, y_train, X_test, y_test)"
   ]
  },
  {
   "cell_type": "code",
   "execution_count": 434,
   "metadata": {},
   "outputs": [
    {
     "name": "stdout",
     "output_type": "stream",
     "text": [
      "R squared Score on Train: 0.10287370298715648\n",
      "R squared Score on Test: 0.11925863908376977\n",
      "Adjusted R Squared Score on Train: 0.10264806466982856\n",
      "Adjusted R Squared Score on Test: 0.11859375193198829\n",
      "Root Mean Squared error on Train: 0.19215852747477596\n",
      "Root Mean Squared error on Test: 0.1602350310850146\n",
      "Linear Regression baseline model: Time Taken-  5.0344767570495605\n"
     ]
    },
    {
     "data": {
      "image/png": "[encoded data removed]",
      "text/plain": [
       "<Figure size 432x288 with 1 Axes>"
      ]
     },
     "metadata": {},
     "output_type": "display_data"
    }
   ],
   "source": [
    "ridge= StatisticalModels.linear_baseline_model(X_train, y_train, X_test, y_test)"
   ]
  },
  {
   "cell_type": "code",
   "execution_count": 482,
   "metadata": {},
   "outputs": [
    {
     "name": "stdout",
     "output_type": "stream",
     "text": [
      "\n",
      " mu = 0.16 and sigma = 0.46\n",
      "\n"
     ]
    },
    {
     "data": {
      "image/png": "[encoded data removed]",
      "text/plain": [
       "<Figure size 432x288 with 1 Axes>"
      ]
     },
     "metadata": {},
     "output_type": "display_data"
    }
   ],
   "source": [
    "plot_histogram(y_train)"
   ]
  },
  {
   "cell_type": "code",
   "execution_count": 491,
   "metadata": {},
   "outputs": [
    {
     "data": {
      "image/png": "[encoded data removed]",
      "text/plain": [
       "<Figure size 432x288 with 1 Axes>"
      ]
     },
     "metadata": {},
     "output_type": "display_data"
    }
   ],
   "source": [
    "plot_feature_ranking(X_train, y_train)"
   ]
  },
  {
   "cell_type": "code",
   "execution_count": null,
   "metadata": {},
   "outputs": [],
   "source": []
  }
 ],
 "metadata": {
  "kernelspec": {
   "display_name": "Python 3",
   "language": "python",
   "name": "python3"
  },
  "language_info": {
   "codemirror_mode": {
    "name": "ipython",
    "version": 3
   },
   "file_extension": ".py",
   "mimetype": "text/x-python",
   "name": "python",
   "nbconvert_exporter": "python",
   "pygments_lexer": "ipython3",
   "version": "3.6.6"
  }
 },
 "nbformat": 4,
 "nbformat_minor": 2
}
